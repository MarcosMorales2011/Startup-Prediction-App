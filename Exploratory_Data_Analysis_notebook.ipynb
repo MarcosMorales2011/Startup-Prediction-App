{
  "nbformat": 4,
  "nbformat_minor": 0,
  "metadata": {
    "colab": {
      "name": "Exploratory Data Analysis notebook",
      "provenance": []
    },
    "kernelspec": {
      "name": "python3",
      "display_name": "Python 3"
    }
  },
  "cells": [
    {
      "cell_type": "code",
      "metadata": {
        "id": "aX8sjOv8kM88",
        "outputId": "72d2de10-a9f5-40ae-ba41-0c4fb965a138",
        "colab": {
          "base_uri": "https://localhost:8080/",
          "height": 284
        }
      },
      "source": [
        "!pip install category_encoders==2.*"
      ],
      "execution_count": 1,
      "outputs": [
        {
          "output_type": "stream",
          "text": [
            "Collecting category_encoders==2.*\n",
            "\u001b[?25l  Downloading https://files.pythonhosted.org/packages/44/57/fcef41c248701ee62e8325026b90c432adea35555cbc870aff9cfba23727/category_encoders-2.2.2-py2.py3-none-any.whl (80kB)\n",
            "\r\u001b[K     |████                            | 10kB 17.9MB/s eta 0:00:01\r\u001b[K     |████████▏                       | 20kB 2.8MB/s eta 0:00:01\r\u001b[K     |████████████▏                   | 30kB 3.8MB/s eta 0:00:01\r\u001b[K     |████████████████▎               | 40kB 4.1MB/s eta 0:00:01\r\u001b[K     |████████████████████▎           | 51kB 3.3MB/s eta 0:00:01\r\u001b[K     |████████████████████████▍       | 61kB 3.7MB/s eta 0:00:01\r\u001b[K     |████████████████████████████▍   | 71kB 3.9MB/s eta 0:00:01\r\u001b[K     |████████████████████████████████| 81kB 3.1MB/s \n",
            "\u001b[?25hRequirement already satisfied: scikit-learn>=0.20.0 in /usr/local/lib/python3.6/dist-packages (from category_encoders==2.*) (0.22.2.post1)\n",
            "Requirement already satisfied: scipy>=1.0.0 in /usr/local/lib/python3.6/dist-packages (from category_encoders==2.*) (1.4.1)\n",
            "Requirement already satisfied: numpy>=1.14.0 in /usr/local/lib/python3.6/dist-packages (from category_encoders==2.*) (1.18.5)\n",
            "Requirement already satisfied: patsy>=0.5.1 in /usr/local/lib/python3.6/dist-packages (from category_encoders==2.*) (0.5.1)\n",
            "Requirement already satisfied: pandas>=0.21.1 in /usr/local/lib/python3.6/dist-packages (from category_encoders==2.*) (1.1.2)\n",
            "Requirement already satisfied: statsmodels>=0.9.0 in /usr/local/lib/python3.6/dist-packages (from category_encoders==2.*) (0.10.2)\n",
            "Requirement already satisfied: joblib>=0.11 in /usr/local/lib/python3.6/dist-packages (from scikit-learn>=0.20.0->category_encoders==2.*) (0.16.0)\n",
            "Requirement already satisfied: six in /usr/local/lib/python3.6/dist-packages (from patsy>=0.5.1->category_encoders==2.*) (1.15.0)\n",
            "Requirement already satisfied: python-dateutil>=2.7.3 in /usr/local/lib/python3.6/dist-packages (from pandas>=0.21.1->category_encoders==2.*) (2.8.1)\n",
            "Requirement already satisfied: pytz>=2017.2 in /usr/local/lib/python3.6/dist-packages (from pandas>=0.21.1->category_encoders==2.*) (2018.9)\n",
            "Installing collected packages: category-encoders\n",
            "Successfully installed category-encoders-2.2.2\n"
          ],
          "name": "stdout"
        }
      ]
    },
    {
      "cell_type": "code",
      "metadata": {
        "id": "QzMckgyDpmM1",
        "outputId": "b5418230-96c5-490e-ed99-01834147d277",
        "colab": {
          "resources": {
            "http://localhost:8080/nbextensions/google.colab/files.js": {
              "data": "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",
              "ok": true,
              "headers": [
                [
                  "content-type",
                  "application/javascript"
                ]
              ],
              "status": 200,
              "status_text": ""
            }
          },
          "base_uri": "https://localhost:8080/",
          "height": 73
        }
      },
      "source": [
        "# We'll upload our file to our google colab\n",
        "from google.colab import files\n",
        "uploaded = files.upload()"
      ],
      "execution_count": 2,
      "outputs": [
        {
          "output_type": "display_data",
          "data": {
            "text/html": [
              "\n",
              "     <input type=\"file\" id=\"files-f3398593-a350-4b26-bf97-b4941f0918cc\" name=\"files[]\" multiple disabled\n",
              "        style=\"border:none\" />\n",
              "     <output id=\"result-f3398593-a350-4b26-bf97-b4941f0918cc\">\n",
              "      Upload widget is only available when the cell has been executed in the\n",
              "      current browser session. Please rerun this cell to enable.\n",
              "      </output>\n",
              "      <script src=\"/nbextensions/google.colab/files.js\"></script> "
            ],
            "text/plain": [
              "<IPython.core.display.HTML object>"
            ]
          },
          "metadata": {
            "tags": []
          }
        },
        {
          "output_type": "stream",
          "text": [
            "Saving CAX_Startup_Data.csv to CAX_Startup_Data (1).csv\n"
          ],
          "name": "stdout"
        }
      ]
    },
    {
      "cell_type": "code",
      "metadata": {
        "id": "P2h2qCnApQGp"
      },
      "source": [
        "# Import our libraries\n",
        "from sklearn.model_selection import train_test_split, KFold, cross_val_score\n",
        "import io\n",
        "import pandas as pd\n",
        "import numpy as np\n",
        "from sklearn.impute import SimpleImputer\n",
        "from category_encoders import OrdinalEncoder\n",
        "from sklearn.pipeline import make_pipeline\n",
        "from sklearn.linear_model import LogisticRegression\n",
        "import matplotlib.pyplot as plt\n",
        "from sklearn.metrics import plot_confusion_matrix\n",
        "from sklearn.preprocessing import StandardScaler\n",
        "from sklearn import metrics\n",
        "from xgboost import XGBClassifier"
      ],
      "execution_count": 80,
      "outputs": []
    },
    {
      "cell_type": "code",
      "metadata": {
        "id": "4ftbk-Dhpnzv"
      },
      "source": [
        "df = pd.read_csv(io.BytesIO(uploaded['CAX_Startup_Data.csv']))\n",
        "# Dataset is now stored in a Pandas Dataframe"
      ],
      "execution_count": 4,
      "outputs": []
    },
    {
      "cell_type": "markdown",
      "metadata": {
        "id": "YwUqUogAom2R"
      },
      "source": [
        "# EDA\n",
        "\n",
        "## Now that we have our initial dataset, we'll begin cleaning it up in order to format our data for a ML problem. "
      ]
    },
    {
      "cell_type": "code",
      "metadata": {
        "id": "vFYK9_D7tkuh",
        "outputId": "d690fa79-abb5-4259-9423-459256917cf3",
        "colab": {
          "base_uri": "https://localhost:8080/",
          "height": 1000
        }
      },
      "source": [
        "# We can get more information by describing our dataset\n",
        "df.info(verbose = True, null_counts= True)"
      ],
      "execution_count": 5,
      "outputs": [
        {
          "output_type": "stream",
          "text": [
            "<class 'pandas.core.frame.DataFrame'>\n",
            "RangeIndex: 472 entries, 0 to 471\n",
            "Data columns (total 116 columns):\n",
            " #   Column                                                                                                                             Non-Null Count  Dtype  \n",
            "---  ------                                                                                                                             --------------  -----  \n",
            " 0   Company_Name                                                                                                                       472 non-null    object \n",
            " 1   Dependent-Company Status                                                                                                           472 non-null    object \n",
            " 2   year of founding                                                                                                                   472 non-null    object \n",
            " 3   Age of company in years                                                                                                            428 non-null    object \n",
            " 4   Internet Activity Score                                                                                                            407 non-null    float64\n",
            " 5   Short Description of company profile                                                                                               323 non-null    object \n",
            " 6   Industry of company                                                                                                                348 non-null    object \n",
            " 7   Focus functions of company                                                                                                         442 non-null    object \n",
            " 8   Investors                                                                                                                          332 non-null    object \n",
            " 9   Employee Count                                                                                                                     306 non-null    float64\n",
            " 10  Employees count MoM change                                                                                                         267 non-null    float64\n",
            " 11  Has the team size grown                                                                                                            422 non-null    object \n",
            " 12  Est. Founding Date                                                                                                                 363 non-null    object \n",
            " 13  Last Funding Date                                                                                                                  350 non-null    object \n",
            " 14  Last Funding Amount                                                                                                                312 non-null    float64\n",
            " 15  Country of company                                                                                                                 401 non-null    object \n",
            " 16  Continent of company                                                                                                               401 non-null    object \n",
            " 17  Number of Investors in Seed                                                                                                        472 non-null    object \n",
            " 18  Number of Investors in Angel and or VC                                                                                             472 non-null    object \n",
            " 19  Number of Co-founders                                                                                                              472 non-null    int64  \n",
            " 20  Number of of advisors                                                                                                              472 non-null    int64  \n",
            " 21  Team size Senior leadership                                                                                                        472 non-null    int64  \n",
            " 22  Team size all employees                                                                                                            472 non-null    object \n",
            " 23  Presence of a top angel or venture fund in previous round of investment                                                            472 non-null    object \n",
            " 24  Number of of repeat investors                                                                                                      472 non-null    object \n",
            " 25  Number of  Sales Support material                                                                                                  472 non-null    object \n",
            " 26  Worked in top companies                                                                                                            472 non-null    object \n",
            " 27  Average size of companies worked for in the past                                                                                   472 non-null    object \n",
            " 28  Have been part of startups in the past?                                                                                            472 non-null    object \n",
            " 29  Have been part of successful startups in the past?                                                                                 472 non-null    object \n",
            " 30  Was he or she partner in Big 5 consulting?                                                                                         472 non-null    object \n",
            " 31  Consulting experience?                                                                                                             472 non-null    object \n",
            " 32  Product or service company?                                                                                                        472 non-null    object \n",
            " 33  Catering to product/service across verticals                                                                                       472 non-null    object \n",
            " 34  Focus on private or public data?                                                                                                   472 non-null    object \n",
            " 35  Focus on consumer data?                                                                                                            472 non-null    object \n",
            " 36  Focus on structured or unstructured data                                                                                           472 non-null    object \n",
            " 37  Subscription based business                                                                                                        472 non-null    object \n",
            " 38  Cloud or platform based serive/product?                                                                                            472 non-null    object \n",
            " 39  Local or global player                                                                                                             472 non-null    object \n",
            " 40  Linear or Non-linear business model                                                                                                472 non-null    object \n",
            " 41  Capital intensive business e.g. e-commerce, Engineering products and operations can also cause a business to be capital intensive  472 non-null    object \n",
            " 42  Number of  of Partners of company                                                                                                  472 non-null    object \n",
            " 43  Crowdsourcing based business                                                                                                       472 non-null    object \n",
            " 44  Crowdfunding based business                                                                                                        472 non-null    object \n",
            " 45  Machine Learning based business                                                                                                    472 non-null    object \n",
            " 46  Predictive Analytics business                                                                                                      472 non-null    object \n",
            " 47  Speech analytics business                                                                                                          472 non-null    object \n",
            " 48  Prescriptive analytics business                                                                                                    472 non-null    object \n",
            " 49  Big Data Business                                                                                                                  472 non-null    object \n",
            " 50  Cross-Channel Analytics/ marketing channels                                                                                        472 non-null    object \n",
            " 51  Owns data or not? (monetization of data) e.g. Factual                                                                              472 non-null    object \n",
            " 52  Is the company an aggregator/market place? e.g. Bluekai                                                                            472 non-null    object \n",
            " 53  Online or offline venture - physical location based business or online venture?                                                    472 non-null    object \n",
            " 54  B2C or B2B venture?                                                                                                                472 non-null    object \n",
            " 55  Top forums like 'Tech crunch' or 'Venture beat' talking about the company/model - How much is it being talked about?               472 non-null    object \n",
            " 56  Average Years of experience for founder and co founder                                                                             472 non-null    object \n",
            " 57  Exposure across the globe                                                                                                          472 non-null    object \n",
            " 58  Breadth of experience across verticals                                                                                             472 non-null    object \n",
            " 59  Highest education                                                                                                                  472 non-null    object \n",
            " 60  Years of education                                                                                                                 472 non-null    object \n",
            " 61  Specialization of highest education                                                                                                375 non-null    object \n",
            " 62  Relevance of education to venture                                                                                                  472 non-null    object \n",
            " 63  Relevance of experience to venture                                                                                                 472 non-null    object \n",
            " 64  Degree from a Tier 1 or Tier 2 university?                                                                                         472 non-null    object \n",
            " 65  Renowned in professional circle                                                                                                    472 non-null    object \n",
            " 66  Experience in selling and building products                                                                                        472 non-null    object \n",
            " 67  Experience in Fortune 100 organizations                                                                                            472 non-null    object \n",
            " 68  Experience in Fortune 500 organizations                                                                                            472 non-null    object \n",
            " 69  Experience in Fortune 1000 organizations                                                                                           472 non-null    object \n",
            " 70  Top management similarity                                                                                                          472 non-null    object \n",
            " 71  Number of Recognitions for Founders and Co-founders                                                                                472 non-null    object \n",
            " 72  Number of  of Research publications                                                                                                472 non-null    object \n",
            " 73  Skills score                                                                                                                       472 non-null    object \n",
            " 74  Team Composition score                                                                                                             472 non-null    object \n",
            " 75  Dificulty of Obtaining Work force                                                                                                  472 non-null    object \n",
            " 76  Pricing Strategy                                                                                                                   472 non-null    object \n",
            " 77  Hyper localisation                                                                                                                 472 non-null    object \n",
            " 78  Time to market service or product                                                                                                  472 non-null    object \n",
            " 79  Employee benefits and salary structures                                                                                            472 non-null    object \n",
            " 80  Long term relationship with other founders                                                                                         472 non-null    object \n",
            " 81  Proprietary or patent position (competitive position)                                                                              472 non-null    object \n",
            " 82  Barriers of entry for the competitors                                                                                              472 non-null    object \n",
            " 83  Company awards                                                                                                                     472 non-null    object \n",
            " 84  Controversial history of founder or co founder                                                                                     472 non-null    object \n",
            " 85  Legal risk and intellectual property                                                                                               472 non-null    object \n",
            " 86  Client Reputation                                                                                                                  472 non-null    object \n",
            " 87  google page rank of company website                                                                                                472 non-null    object \n",
            " 88  Technical proficiencies to analyse and interpret unstructured data                                                                 472 non-null    object \n",
            " 89  Solutions offered                                                                                                                  472 non-null    object \n",
            " 90  Invested through global incubation competitions?                                                                                   472 non-null    object \n",
            " 91  Industry trend in investing                                                                                                        390 non-null    float64\n",
            " 92  Disruptiveness of technology                                                                                                       472 non-null    object \n",
            " 93  Number of Direct competitors                                                                                                       472 non-null    object \n",
            " 94  Employees per year of company existence                                                                                            472 non-null    object \n",
            " 95  Last round of funding received (in milionUSD)                                                                                      472 non-null    object \n",
            " 96  Survival through recession, based on existence of the company through recession times                                              472 non-null    object \n",
            " 97  Time to 1st investment (in months)                                                                                                 472 non-null    object \n",
            " 98  Avg time to investment - average across all rounds, measured from previous investment                                              472 non-null    object \n",
            " 99  Gartner hype cycle stage                                                                                                           300 non-null    object \n",
            " 100 Time to maturity of technology (in years)                                                                                          300 non-null    object \n",
            " 101 Percent_skill_Entrepreneurship                                                                                                     472 non-null    object \n",
            " 102 Percent_skill_Operations                                                                                                           472 non-null    object \n",
            " 103 Percent_skill_Engineering                                                                                                          472 non-null    object \n",
            " 104 Percent_skill_Marketing                                                                                                            472 non-null    object \n",
            " 105 Percent_skill_Leadership                                                                                                           472 non-null    object \n",
            " 106 Percent_skill_Data Science                                                                                                         472 non-null    object \n",
            " 107 Percent_skill_Business Strategy                                                                                                    472 non-null    object \n",
            " 108 Percent_skill_Product Management                                                                                                   472 non-null    object \n",
            " 109 Percent_skill_Sales                                                                                                                472 non-null    object \n",
            " 110 Percent_skill_Domain                                                                                                               472 non-null    object \n",
            " 111 Percent_skill_Law                                                                                                                  472 non-null    object \n",
            " 112 Percent_skill_Consulting                                                                                                           472 non-null    object \n",
            " 113 Percent_skill_Finance                                                                                                              472 non-null    object \n",
            " 114 Percent_skill_Investment                                                                                                           472 non-null    object \n",
            " 115 Renown score                                                                                                                       472 non-null    object \n",
            "dtypes: float64(5), int64(3), object(108)\n",
            "memory usage: 427.9+ KB\n"
          ],
          "name": "stdout"
        }
      ]
    },
    {
      "cell_type": "markdown",
      "metadata": {
        "id": "bWRVuGV6o2Hh"
      },
      "source": [
        "We can see right away that there's a good amount of columns that do not have null values. Now, there's a particular column that seems interesting, and that's the dependent company status."
      ]
    },
    {
      "cell_type": "code",
      "metadata": {
        "id": "I_-oHKmDo0n2",
        "outputId": "db4647f5-5e52-480d-b95c-597ea033dc03",
        "colab": {
          "base_uri": "https://localhost:8080/",
          "height": 70
        }
      },
      "source": [
        "# Let's take a look at the column\n",
        "df['Dependent-Company Status'].value_counts()\n",
        "# The column describes if the startup succeeded or failed. This seems to be a classification metric we can predict.\n",
        "\n",
        "# Our predicting column will then be Dependent-Company Status"
      ],
      "execution_count": 6,
      "outputs": [
        {
          "output_type": "execute_result",
          "data": {
            "text/plain": [
              "Success    305\n",
              "Failed     167\n",
              "Name: Dependent-Company Status, dtype: int64"
            ]
          },
          "metadata": {
            "tags": []
          },
          "execution_count": 6
        }
      ]
    },
    {
      "cell_type": "markdown",
      "metadata": {
        "id": "kxR0aO9Wo5zG"
      },
      "source": [
        "Now, although most columns don't seem to have many missing values, the percentages showed a lot of 0s, which might be in fact their place holder for NaNs."
      ]
    },
    {
      "cell_type": "code",
      "metadata": {
        "id": "D0mY1dS-o3Eh",
        "outputId": "b1220550-7320-4c13-95b9-87b3310fabd7",
        "colab": {
          "base_uri": "https://localhost:8080/",
          "height": 692
        }
      },
      "source": [
        "df['Percent_skill_Investment'].value_counts()"
      ],
      "execution_count": 7,
      "outputs": [
        {
          "output_type": "execute_result",
          "data": {
            "text/plain": [
              "0              323\n",
              "No Info         61\n",
              "5.555555556     13\n",
              "2.777777778      8\n",
              "11.11111111      6\n",
              "5.882352941      5\n",
              "7.142857143      5\n",
              "2.941176471      4\n",
              "6.25             4\n",
              "1.960784314      4\n",
              "5.263157895      3\n",
              "3.333333333      3\n",
              "12.5             2\n",
              "10               2\n",
              "8.333333333      2\n",
              "3.703703704      2\n",
              "6.666666667      2\n",
              "4.166666667      2\n",
              "3.125            2\n",
              "4.761904762      2\n",
              "25               1\n",
              "6.944444444      1\n",
              "1.315789474      1\n",
              "3.846153846      1\n",
              "15               1\n",
              "1.111111111      1\n",
              "14.28571429      1\n",
              "5.718954248      1\n",
              "6.066176471      1\n",
              "33.33333333      1\n",
              "2.083333333      1\n",
              "6.787330317      1\n",
              "1.851851852      1\n",
              "9.090909091      1\n",
              "3.571428571      1\n",
              "7.692307692      1\n",
              "11.76470588      1\n",
              "Name: Percent_skill_Investment, dtype: int64"
            ]
          },
          "metadata": {
            "tags": []
          },
          "execution_count": 7
        }
      ]
    },
    {
      "cell_type": "markdown",
      "metadata": {
        "id": "cV5-IfQjo9bS"
      },
      "source": [
        "In a EDA perspective, we can see that the large amount of both 0s and \"No Info\" makes the columns a lot less complete. At the same time, one has to think how reliable these metrics are. There are no standard forms of measuring \"Percent skill\" on a particular area, so none of these columns might actually give us good information. We're better off dropping them."
      ]
    },
    {
      "cell_type": "code",
      "metadata": {
        "id": "Jw9wtTUKo7QJ"
      },
      "source": [
        "# Wrangle our data\n",
        "def wrangle(X):\n",
        "  # Make a copy\n",
        "  X = X.copy()\n",
        "  cols = ['Percent_skill_Entrepreneurship', 'Percent_skill_Operations', 'Percent_skill_Engineering', 'Percent_skill_Marketing',\n",
        "          'Percent_skill_Leadership', 'Percent_skill_Data Science', 'Percent_skill_Business Strategy', 'Percent_skill_Product Management',\n",
        "          'Percent_skill_Sales', 'Percent_skill_Domain', 'Percent_skill_Law', 'Percent_skill_Consulting',\n",
        "          'Percent_skill_Finance', 'Percent_skill_Investment']\n",
        "  X.drop(columns=cols, inplace=True)\n",
        "  # X = X[X['amount_tsh'].between(X['amount_tsh'].quantile(0.02), X['amount_tsh'].quantile(0.98))]\n",
        "\n",
        "  return X"
      ],
      "execution_count": 8,
      "outputs": []
    },
    {
      "cell_type": "code",
      "metadata": {
        "id": "lOi6dKVPo_gC"
      },
      "source": [
        "# Wrangle the dataframe\n",
        "df = wrangle(df)"
      ],
      "execution_count": 9,
      "outputs": []
    },
    {
      "cell_type": "code",
      "metadata": {
        "id": "ENcUT2eEpApB",
        "outputId": "a546cc7a-02ea-4c57-f350-4affc451ba94",
        "colab": {
          "base_uri": "https://localhost:8080/",
          "height": 615
        }
      },
      "source": [
        "# Take a look at the dataframe's head\n",
        "df.head()"
      ],
      "execution_count": 10,
      "outputs": [
        {
          "output_type": "execute_result",
          "data": {
            "text/html": [
              "<div>\n",
              "<style scoped>\n",
              "    .dataframe tbody tr th:only-of-type {\n",
              "        vertical-align: middle;\n",
              "    }\n",
              "\n",
              "    .dataframe tbody tr th {\n",
              "        vertical-align: top;\n",
              "    }\n",
              "\n",
              "    .dataframe thead th {\n",
              "        text-align: right;\n",
              "    }\n",
              "</style>\n",
              "<table border=\"1\" class=\"dataframe\">\n",
              "  <thead>\n",
              "    <tr style=\"text-align: right;\">\n",
              "      <th></th>\n",
              "      <th>Company_Name</th>\n",
              "      <th>Dependent-Company Status</th>\n",
              "      <th>year of founding</th>\n",
              "      <th>Age of company in years</th>\n",
              "      <th>Internet Activity Score</th>\n",
              "      <th>Short Description of company profile</th>\n",
              "      <th>Industry of company</th>\n",
              "      <th>Focus functions of company</th>\n",
              "      <th>Investors</th>\n",
              "      <th>Employee Count</th>\n",
              "      <th>Employees count MoM change</th>\n",
              "      <th>Has the team size grown</th>\n",
              "      <th>Est. Founding Date</th>\n",
              "      <th>Last Funding Date</th>\n",
              "      <th>Last Funding Amount</th>\n",
              "      <th>Country of company</th>\n",
              "      <th>Continent of company</th>\n",
              "      <th>Number of Investors in Seed</th>\n",
              "      <th>Number of Investors in Angel and or VC</th>\n",
              "      <th>Number of Co-founders</th>\n",
              "      <th>Number of of advisors</th>\n",
              "      <th>Team size Senior leadership</th>\n",
              "      <th>Team size all employees</th>\n",
              "      <th>Presence of a top angel or venture fund in previous round of investment</th>\n",
              "      <th>Number of of repeat investors</th>\n",
              "      <th>Number of  Sales Support material</th>\n",
              "      <th>Worked in top companies</th>\n",
              "      <th>Average size of companies worked for in the past</th>\n",
              "      <th>Have been part of startups in the past?</th>\n",
              "      <th>Have been part of successful startups in the past?</th>\n",
              "      <th>Was he or she partner in Big 5 consulting?</th>\n",
              "      <th>Consulting experience?</th>\n",
              "      <th>Product or service company?</th>\n",
              "      <th>Catering to product/service across verticals</th>\n",
              "      <th>Focus on private or public data?</th>\n",
              "      <th>Focus on consumer data?</th>\n",
              "      <th>Focus on structured or unstructured data</th>\n",
              "      <th>Subscription based business</th>\n",
              "      <th>Cloud or platform based serive/product?</th>\n",
              "      <th>Local or global player</th>\n",
              "      <th>...</th>\n",
              "      <th>Relevance of education to venture</th>\n",
              "      <th>Relevance of experience to venture</th>\n",
              "      <th>Degree from a Tier 1 or Tier 2 university?</th>\n",
              "      <th>Renowned in professional circle</th>\n",
              "      <th>Experience in selling and building products</th>\n",
              "      <th>Experience in Fortune 100 organizations</th>\n",
              "      <th>Experience in Fortune 500 organizations</th>\n",
              "      <th>Experience in Fortune 1000 organizations</th>\n",
              "      <th>Top management similarity</th>\n",
              "      <th>Number of Recognitions for Founders and Co-founders</th>\n",
              "      <th>Number of  of Research publications</th>\n",
              "      <th>Skills score</th>\n",
              "      <th>Team Composition score</th>\n",
              "      <th>Dificulty of Obtaining Work force</th>\n",
              "      <th>Pricing Strategy</th>\n",
              "      <th>Hyper localisation</th>\n",
              "      <th>Time to market service or product</th>\n",
              "      <th>Employee benefits and salary structures</th>\n",
              "      <th>Long term relationship with other founders</th>\n",
              "      <th>Proprietary or patent position (competitive position)</th>\n",
              "      <th>Barriers of entry for the competitors</th>\n",
              "      <th>Company awards</th>\n",
              "      <th>Controversial history of founder or co founder</th>\n",
              "      <th>Legal risk and intellectual property</th>\n",
              "      <th>Client Reputation</th>\n",
              "      <th>google page rank of company website</th>\n",
              "      <th>Technical proficiencies to analyse and interpret unstructured data</th>\n",
              "      <th>Solutions offered</th>\n",
              "      <th>Invested through global incubation competitions?</th>\n",
              "      <th>Industry trend in investing</th>\n",
              "      <th>Disruptiveness of technology</th>\n",
              "      <th>Number of Direct competitors</th>\n",
              "      <th>Employees per year of company existence</th>\n",
              "      <th>Last round of funding received (in milionUSD)</th>\n",
              "      <th>Survival through recession, based on existence of the company through recession times</th>\n",
              "      <th>Time to 1st investment (in months)</th>\n",
              "      <th>Avg time to investment - average across all rounds, measured from previous investment</th>\n",
              "      <th>Gartner hype cycle stage</th>\n",
              "      <th>Time to maturity of technology (in years)</th>\n",
              "      <th>Renown score</th>\n",
              "    </tr>\n",
              "  </thead>\n",
              "  <tbody>\n",
              "    <tr>\n",
              "      <th>0</th>\n",
              "      <td>Company1</td>\n",
              "      <td>Success</td>\n",
              "      <td>No Info</td>\n",
              "      <td>No Info</td>\n",
              "      <td>-1.0</td>\n",
              "      <td>Video distribution</td>\n",
              "      <td>NaN</td>\n",
              "      <td>operation</td>\n",
              "      <td>KPCB Holdings|Draper Fisher Jurvetson (DFJ)|Kl...</td>\n",
              "      <td>3.0</td>\n",
              "      <td>0.0</td>\n",
              "      <td>No</td>\n",
              "      <td>NaN</td>\n",
              "      <td>5/26/2013</td>\n",
              "      <td>450000.0</td>\n",
              "      <td>United States</td>\n",
              "      <td>North America</td>\n",
              "      <td>2</td>\n",
              "      <td>0</td>\n",
              "      <td>1</td>\n",
              "      <td>2</td>\n",
              "      <td>2</td>\n",
              "      <td>15</td>\n",
              "      <td>Yes</td>\n",
              "      <td>4</td>\n",
              "      <td>Nothing</td>\n",
              "      <td>No</td>\n",
              "      <td>Small</td>\n",
              "      <td>No</td>\n",
              "      <td>No</td>\n",
              "      <td>No</td>\n",
              "      <td>No</td>\n",
              "      <td>Service</td>\n",
              "      <td>No</td>\n",
              "      <td>Private</td>\n",
              "      <td>No</td>\n",
              "      <td>Both</td>\n",
              "      <td>Yes</td>\n",
              "      <td>Platform</td>\n",
              "      <td>Global</td>\n",
              "      <td>...</td>\n",
              "      <td>Yes</td>\n",
              "      <td>Yes</td>\n",
              "      <td>Tier_1</td>\n",
              "      <td>500</td>\n",
              "      <td>Medium</td>\n",
              "      <td>0</td>\n",
              "      <td>0</td>\n",
              "      <td>0</td>\n",
              "      <td>None</td>\n",
              "      <td>0</td>\n",
              "      <td>None</td>\n",
              "      <td>0</td>\n",
              "      <td>Low</td>\n",
              "      <td>Low</td>\n",
              "      <td>Yes</td>\n",
              "      <td>No</td>\n",
              "      <td>High</td>\n",
              "      <td>No Info</td>\n",
              "      <td>No</td>\n",
              "      <td>No</td>\n",
              "      <td>Yes</td>\n",
              "      <td>No</td>\n",
              "      <td>No</td>\n",
              "      <td>No</td>\n",
              "      <td>No Info</td>\n",
              "      <td>9626884</td>\n",
              "      <td>No</td>\n",
              "      <td>Yes</td>\n",
              "      <td>No</td>\n",
              "      <td>2.0</td>\n",
              "      <td>Low</td>\n",
              "      <td>0</td>\n",
              "      <td>1.5</td>\n",
              "      <td>0.45</td>\n",
              "      <td>No Info</td>\n",
              "      <td>No Info</td>\n",
              "      <td>11.56</td>\n",
              "      <td>NaN</td>\n",
              "      <td>NaN</td>\n",
              "      <td>0</td>\n",
              "    </tr>\n",
              "    <tr>\n",
              "      <th>1</th>\n",
              "      <td>Company2</td>\n",
              "      <td>Success</td>\n",
              "      <td>2011</td>\n",
              "      <td>3</td>\n",
              "      <td>125.0</td>\n",
              "      <td>NaN</td>\n",
              "      <td>Market Research|Marketing|Crowdfunding</td>\n",
              "      <td>Marketing, sales</td>\n",
              "      <td>NaN</td>\n",
              "      <td>NaN</td>\n",
              "      <td>NaN</td>\n",
              "      <td>No</td>\n",
              "      <td>NaN</td>\n",
              "      <td>NaN</td>\n",
              "      <td>NaN</td>\n",
              "      <td>United States</td>\n",
              "      <td>North America</td>\n",
              "      <td>5</td>\n",
              "      <td>0</td>\n",
              "      <td>2</td>\n",
              "      <td>0</td>\n",
              "      <td>4</td>\n",
              "      <td>20</td>\n",
              "      <td>No</td>\n",
              "      <td>0</td>\n",
              "      <td>medium</td>\n",
              "      <td>Yes</td>\n",
              "      <td>Large</td>\n",
              "      <td>Yes</td>\n",
              "      <td>Yes</td>\n",
              "      <td>No</td>\n",
              "      <td>No</td>\n",
              "      <td>Product</td>\n",
              "      <td>No</td>\n",
              "      <td>Public</td>\n",
              "      <td>Yes</td>\n",
              "      <td>Both</td>\n",
              "      <td>No</td>\n",
              "      <td>Platform</td>\n",
              "      <td>Local</td>\n",
              "      <td>...</td>\n",
              "      <td>Yes</td>\n",
              "      <td>Yes</td>\n",
              "      <td>Tier_1</td>\n",
              "      <td>500</td>\n",
              "      <td>High</td>\n",
              "      <td>0</td>\n",
              "      <td>0</td>\n",
              "      <td>0</td>\n",
              "      <td>Medium</td>\n",
              "      <td>13</td>\n",
              "      <td>None</td>\n",
              "      <td>34</td>\n",
              "      <td>High</td>\n",
              "      <td>Medium</td>\n",
              "      <td>Yes</td>\n",
              "      <td>No</td>\n",
              "      <td>Low</td>\n",
              "      <td>No Info</td>\n",
              "      <td>No</td>\n",
              "      <td>Yes</td>\n",
              "      <td>Yes</td>\n",
              "      <td>No</td>\n",
              "      <td>No</td>\n",
              "      <td>Yes</td>\n",
              "      <td>Medium</td>\n",
              "      <td>1067034</td>\n",
              "      <td>Yes</td>\n",
              "      <td>Yes</td>\n",
              "      <td>No</td>\n",
              "      <td>3.0</td>\n",
              "      <td>Medium</td>\n",
              "      <td>0</td>\n",
              "      <td>6.666666667</td>\n",
              "      <td>5</td>\n",
              "      <td>Not Applicable</td>\n",
              "      <td>10</td>\n",
              "      <td>9</td>\n",
              "      <td>Trough</td>\n",
              "      <td>2 to 5</td>\n",
              "      <td>8</td>\n",
              "    </tr>\n",
              "    <tr>\n",
              "      <th>2</th>\n",
              "      <td>Company3</td>\n",
              "      <td>Success</td>\n",
              "      <td>2011</td>\n",
              "      <td>3</td>\n",
              "      <td>455.0</td>\n",
              "      <td>Event Data Analytics API</td>\n",
              "      <td>Analytics|Cloud Computing|Software Development</td>\n",
              "      <td>operations</td>\n",
              "      <td>TechStars|Streamlined Ventures|Amplify Partner...</td>\n",
              "      <td>14.0</td>\n",
              "      <td>0.0</td>\n",
              "      <td>No</td>\n",
              "      <td>12/1/2011</td>\n",
              "      <td>10/23/2013</td>\n",
              "      <td>2350000.0</td>\n",
              "      <td>United States</td>\n",
              "      <td>North America</td>\n",
              "      <td>15</td>\n",
              "      <td>0</td>\n",
              "      <td>3</td>\n",
              "      <td>0</td>\n",
              "      <td>7</td>\n",
              "      <td>10</td>\n",
              "      <td>No</td>\n",
              "      <td>0</td>\n",
              "      <td>low</td>\n",
              "      <td>Yes</td>\n",
              "      <td>Medium</td>\n",
              "      <td>No</td>\n",
              "      <td>No</td>\n",
              "      <td>No</td>\n",
              "      <td>No</td>\n",
              "      <td>Both</td>\n",
              "      <td>Yes</td>\n",
              "      <td>Private</td>\n",
              "      <td>Yes</td>\n",
              "      <td>Both</td>\n",
              "      <td>Yes</td>\n",
              "      <td>cloud</td>\n",
              "      <td>Local</td>\n",
              "      <td>...</td>\n",
              "      <td>Yes</td>\n",
              "      <td>Yes</td>\n",
              "      <td>Tier_2</td>\n",
              "      <td>500</td>\n",
              "      <td>High</td>\n",
              "      <td>0</td>\n",
              "      <td>0</td>\n",
              "      <td>1</td>\n",
              "      <td>Medium</td>\n",
              "      <td>18</td>\n",
              "      <td>None</td>\n",
              "      <td>36</td>\n",
              "      <td>High</td>\n",
              "      <td>Medium</td>\n",
              "      <td>Yes</td>\n",
              "      <td>No</td>\n",
              "      <td>Low</td>\n",
              "      <td>No Info</td>\n",
              "      <td>Yes</td>\n",
              "      <td>Yes</td>\n",
              "      <td>Yes</td>\n",
              "      <td>No</td>\n",
              "      <td>No</td>\n",
              "      <td>No</td>\n",
              "      <td>Low</td>\n",
              "      <td>71391</td>\n",
              "      <td>Yes</td>\n",
              "      <td>Yes</td>\n",
              "      <td>Yes</td>\n",
              "      <td>3.0</td>\n",
              "      <td>Medium</td>\n",
              "      <td>0</td>\n",
              "      <td>3.333333333</td>\n",
              "      <td>2.35</td>\n",
              "      <td>Not Applicable</td>\n",
              "      <td>2</td>\n",
              "      <td>7.344444444</td>\n",
              "      <td>Trough</td>\n",
              "      <td>2 to 5</td>\n",
              "      <td>9</td>\n",
              "    </tr>\n",
              "    <tr>\n",
              "      <th>3</th>\n",
              "      <td>Company4</td>\n",
              "      <td>Success</td>\n",
              "      <td>2009</td>\n",
              "      <td>5</td>\n",
              "      <td>-99.0</td>\n",
              "      <td>The most advanced analytics for mobile</td>\n",
              "      <td>Mobile|Analytics</td>\n",
              "      <td>Marketing &amp; Sales</td>\n",
              "      <td>Michael Birch|Max Levchin|Sequoia Capital|Keit...</td>\n",
              "      <td>45.0</td>\n",
              "      <td>10.0</td>\n",
              "      <td>No</td>\n",
              "      <td>6/20/2009</td>\n",
              "      <td>5/10/2012</td>\n",
              "      <td>10250000.0</td>\n",
              "      <td>United States</td>\n",
              "      <td>North America</td>\n",
              "      <td>6</td>\n",
              "      <td>0</td>\n",
              "      <td>2</td>\n",
              "      <td>0</td>\n",
              "      <td>4</td>\n",
              "      <td>50</td>\n",
              "      <td>Yes</td>\n",
              "      <td>0</td>\n",
              "      <td>low</td>\n",
              "      <td>No</td>\n",
              "      <td>Large</td>\n",
              "      <td>Yes</td>\n",
              "      <td>Yes</td>\n",
              "      <td>No</td>\n",
              "      <td>No</td>\n",
              "      <td>Product</td>\n",
              "      <td>Yes</td>\n",
              "      <td>Public</td>\n",
              "      <td>Yes</td>\n",
              "      <td>Structured</td>\n",
              "      <td>Yes</td>\n",
              "      <td>Platform</td>\n",
              "      <td>Local</td>\n",
              "      <td>...</td>\n",
              "      <td>Yes</td>\n",
              "      <td>Yes</td>\n",
              "      <td>Tier_2</td>\n",
              "      <td>No Info</td>\n",
              "      <td>Low</td>\n",
              "      <td>0</td>\n",
              "      <td>0</td>\n",
              "      <td>0</td>\n",
              "      <td>Medium</td>\n",
              "      <td>2</td>\n",
              "      <td>None</td>\n",
              "      <td>15.5</td>\n",
              "      <td>Medium</td>\n",
              "      <td>Medium</td>\n",
              "      <td>Yes</td>\n",
              "      <td>No</td>\n",
              "      <td>Low</td>\n",
              "      <td>Good</td>\n",
              "      <td>No</td>\n",
              "      <td>Yes</td>\n",
              "      <td>Yes</td>\n",
              "      <td>No</td>\n",
              "      <td>No</td>\n",
              "      <td>No</td>\n",
              "      <td>Low</td>\n",
              "      <td>11847</td>\n",
              "      <td>No</td>\n",
              "      <td>Yes</td>\n",
              "      <td>Yes</td>\n",
              "      <td>4.0</td>\n",
              "      <td>Medium</td>\n",
              "      <td>2</td>\n",
              "      <td>10</td>\n",
              "      <td>10.25</td>\n",
              "      <td>Not Applicable</td>\n",
              "      <td>1</td>\n",
              "      <td>8.7</td>\n",
              "      <td>Trough</td>\n",
              "      <td>2 to 5</td>\n",
              "      <td>5</td>\n",
              "    </tr>\n",
              "    <tr>\n",
              "      <th>4</th>\n",
              "      <td>Company5</td>\n",
              "      <td>Success</td>\n",
              "      <td>2010</td>\n",
              "      <td>4</td>\n",
              "      <td>496.0</td>\n",
              "      <td>The Location-Based Marketing Platform</td>\n",
              "      <td>Analytics|Marketing|Enterprise Software</td>\n",
              "      <td>Marketing &amp; Sales</td>\n",
              "      <td>DFJ Frontier|Draper Nexus Ventures|Gil Elbaz|A...</td>\n",
              "      <td>39.0</td>\n",
              "      <td>3.0</td>\n",
              "      <td>No</td>\n",
              "      <td>4/1/2010</td>\n",
              "      <td>12/11/2013</td>\n",
              "      <td>5500000.0</td>\n",
              "      <td>United States</td>\n",
              "      <td>North America</td>\n",
              "      <td>7</td>\n",
              "      <td>0</td>\n",
              "      <td>1</td>\n",
              "      <td>1</td>\n",
              "      <td>8</td>\n",
              "      <td>40</td>\n",
              "      <td>No</td>\n",
              "      <td>0</td>\n",
              "      <td>high</td>\n",
              "      <td>No</td>\n",
              "      <td>Small</td>\n",
              "      <td>No</td>\n",
              "      <td>No</td>\n",
              "      <td>No</td>\n",
              "      <td>No</td>\n",
              "      <td>Product</td>\n",
              "      <td>Yes</td>\n",
              "      <td>Public</td>\n",
              "      <td>Yes</td>\n",
              "      <td>Both</td>\n",
              "      <td>No</td>\n",
              "      <td>Platform</td>\n",
              "      <td>Local</td>\n",
              "      <td>...</td>\n",
              "      <td>Yes</td>\n",
              "      <td>Yes</td>\n",
              "      <td>None</td>\n",
              "      <td>500</td>\n",
              "      <td>High</td>\n",
              "      <td>0</td>\n",
              "      <td>0</td>\n",
              "      <td>0</td>\n",
              "      <td>Low</td>\n",
              "      <td>5</td>\n",
              "      <td>Few</td>\n",
              "      <td>23</td>\n",
              "      <td>Medium</td>\n",
              "      <td>Medium</td>\n",
              "      <td>Yes</td>\n",
              "      <td>No</td>\n",
              "      <td>Low</td>\n",
              "      <td>Bad</td>\n",
              "      <td>Yes</td>\n",
              "      <td>Yes</td>\n",
              "      <td>Yes</td>\n",
              "      <td>No</td>\n",
              "      <td>No</td>\n",
              "      <td>No</td>\n",
              "      <td>Low</td>\n",
              "      <td>201814</td>\n",
              "      <td>Yes</td>\n",
              "      <td>Yes</td>\n",
              "      <td>No</td>\n",
              "      <td>3.0</td>\n",
              "      <td>Medium</td>\n",
              "      <td>0</td>\n",
              "      <td>10</td>\n",
              "      <td>5.5</td>\n",
              "      <td>Not Applicable</td>\n",
              "      <td>13</td>\n",
              "      <td>9.822222222</td>\n",
              "      <td>NaN</td>\n",
              "      <td>NaN</td>\n",
              "      <td>6</td>\n",
              "    </tr>\n",
              "  </tbody>\n",
              "</table>\n",
              "<p>5 rows × 102 columns</p>\n",
              "</div>"
            ],
            "text/plain": [
              "  Company_Name  ... Renown score\n",
              "0     Company1  ...            0\n",
              "1     Company2  ...            8\n",
              "2     Company3  ...            9\n",
              "3     Company4  ...            5\n",
              "4     Company5  ...            6\n",
              "\n",
              "[5 rows x 102 columns]"
            ]
          },
          "metadata": {
            "tags": []
          },
          "execution_count": 10
        }
      ]
    },
    {
      "cell_type": "code",
      "metadata": {
        "id": "XAZ1lPvApE5x"
      },
      "source": [
        "#Company name and description are basically unique for each company. The model won't be able to figure out if certain words within the name or description\n",
        "# Allow for a better chance of the startup suceeding, so instead we'll just drop them.\n",
        "cols = ['Company_Name', 'Short Description of company profile']\n",
        "df.drop(columns = cols, inplace=True)"
      ],
      "execution_count": 11,
      "outputs": []
    },
    {
      "cell_type": "code",
      "metadata": {
        "id": "xJTtfs_cpMzT",
        "outputId": "6a7e3715-792b-4974-86d7-99ad71f2147c",
        "colab": {
          "base_uri": "https://localhost:8080/",
          "height": 632
        }
      },
      "source": [
        "# Let's look at the dataframe now\n",
        "df.head()"
      ],
      "execution_count": 12,
      "outputs": [
        {
          "output_type": "execute_result",
          "data": {
            "text/html": [
              "<div>\n",
              "<style scoped>\n",
              "    .dataframe tbody tr th:only-of-type {\n",
              "        vertical-align: middle;\n",
              "    }\n",
              "\n",
              "    .dataframe tbody tr th {\n",
              "        vertical-align: top;\n",
              "    }\n",
              "\n",
              "    .dataframe thead th {\n",
              "        text-align: right;\n",
              "    }\n",
              "</style>\n",
              "<table border=\"1\" class=\"dataframe\">\n",
              "  <thead>\n",
              "    <tr style=\"text-align: right;\">\n",
              "      <th></th>\n",
              "      <th>Dependent-Company Status</th>\n",
              "      <th>year of founding</th>\n",
              "      <th>Age of company in years</th>\n",
              "      <th>Internet Activity Score</th>\n",
              "      <th>Industry of company</th>\n",
              "      <th>Focus functions of company</th>\n",
              "      <th>Investors</th>\n",
              "      <th>Employee Count</th>\n",
              "      <th>Employees count MoM change</th>\n",
              "      <th>Has the team size grown</th>\n",
              "      <th>Est. Founding Date</th>\n",
              "      <th>Last Funding Date</th>\n",
              "      <th>Last Funding Amount</th>\n",
              "      <th>Country of company</th>\n",
              "      <th>Continent of company</th>\n",
              "      <th>Number of Investors in Seed</th>\n",
              "      <th>Number of Investors in Angel and or VC</th>\n",
              "      <th>Number of Co-founders</th>\n",
              "      <th>Number of of advisors</th>\n",
              "      <th>Team size Senior leadership</th>\n",
              "      <th>Team size all employees</th>\n",
              "      <th>Presence of a top angel or venture fund in previous round of investment</th>\n",
              "      <th>Number of of repeat investors</th>\n",
              "      <th>Number of  Sales Support material</th>\n",
              "      <th>Worked in top companies</th>\n",
              "      <th>Average size of companies worked for in the past</th>\n",
              "      <th>Have been part of startups in the past?</th>\n",
              "      <th>Have been part of successful startups in the past?</th>\n",
              "      <th>Was he or she partner in Big 5 consulting?</th>\n",
              "      <th>Consulting experience?</th>\n",
              "      <th>Product or service company?</th>\n",
              "      <th>Catering to product/service across verticals</th>\n",
              "      <th>Focus on private or public data?</th>\n",
              "      <th>Focus on consumer data?</th>\n",
              "      <th>Focus on structured or unstructured data</th>\n",
              "      <th>Subscription based business</th>\n",
              "      <th>Cloud or platform based serive/product?</th>\n",
              "      <th>Local or global player</th>\n",
              "      <th>Linear or Non-linear business model</th>\n",
              "      <th>Capital intensive business e.g. e-commerce, Engineering products and operations can also cause a business to be capital intensive</th>\n",
              "      <th>...</th>\n",
              "      <th>Relevance of education to venture</th>\n",
              "      <th>Relevance of experience to venture</th>\n",
              "      <th>Degree from a Tier 1 or Tier 2 university?</th>\n",
              "      <th>Renowned in professional circle</th>\n",
              "      <th>Experience in selling and building products</th>\n",
              "      <th>Experience in Fortune 100 organizations</th>\n",
              "      <th>Experience in Fortune 500 organizations</th>\n",
              "      <th>Experience in Fortune 1000 organizations</th>\n",
              "      <th>Top management similarity</th>\n",
              "      <th>Number of Recognitions for Founders and Co-founders</th>\n",
              "      <th>Number of  of Research publications</th>\n",
              "      <th>Skills score</th>\n",
              "      <th>Team Composition score</th>\n",
              "      <th>Dificulty of Obtaining Work force</th>\n",
              "      <th>Pricing Strategy</th>\n",
              "      <th>Hyper localisation</th>\n",
              "      <th>Time to market service or product</th>\n",
              "      <th>Employee benefits and salary structures</th>\n",
              "      <th>Long term relationship with other founders</th>\n",
              "      <th>Proprietary or patent position (competitive position)</th>\n",
              "      <th>Barriers of entry for the competitors</th>\n",
              "      <th>Company awards</th>\n",
              "      <th>Controversial history of founder or co founder</th>\n",
              "      <th>Legal risk and intellectual property</th>\n",
              "      <th>Client Reputation</th>\n",
              "      <th>google page rank of company website</th>\n",
              "      <th>Technical proficiencies to analyse and interpret unstructured data</th>\n",
              "      <th>Solutions offered</th>\n",
              "      <th>Invested through global incubation competitions?</th>\n",
              "      <th>Industry trend in investing</th>\n",
              "      <th>Disruptiveness of technology</th>\n",
              "      <th>Number of Direct competitors</th>\n",
              "      <th>Employees per year of company existence</th>\n",
              "      <th>Last round of funding received (in milionUSD)</th>\n",
              "      <th>Survival through recession, based on existence of the company through recession times</th>\n",
              "      <th>Time to 1st investment (in months)</th>\n",
              "      <th>Avg time to investment - average across all rounds, measured from previous investment</th>\n",
              "      <th>Gartner hype cycle stage</th>\n",
              "      <th>Time to maturity of technology (in years)</th>\n",
              "      <th>Renown score</th>\n",
              "    </tr>\n",
              "  </thead>\n",
              "  <tbody>\n",
              "    <tr>\n",
              "      <th>0</th>\n",
              "      <td>Success</td>\n",
              "      <td>No Info</td>\n",
              "      <td>No Info</td>\n",
              "      <td>-1.0</td>\n",
              "      <td>NaN</td>\n",
              "      <td>operation</td>\n",
              "      <td>KPCB Holdings|Draper Fisher Jurvetson (DFJ)|Kl...</td>\n",
              "      <td>3.0</td>\n",
              "      <td>0.0</td>\n",
              "      <td>No</td>\n",
              "      <td>NaN</td>\n",
              "      <td>5/26/2013</td>\n",
              "      <td>450000.0</td>\n",
              "      <td>United States</td>\n",
              "      <td>North America</td>\n",
              "      <td>2</td>\n",
              "      <td>0</td>\n",
              "      <td>1</td>\n",
              "      <td>2</td>\n",
              "      <td>2</td>\n",
              "      <td>15</td>\n",
              "      <td>Yes</td>\n",
              "      <td>4</td>\n",
              "      <td>Nothing</td>\n",
              "      <td>No</td>\n",
              "      <td>Small</td>\n",
              "      <td>No</td>\n",
              "      <td>No</td>\n",
              "      <td>No</td>\n",
              "      <td>No</td>\n",
              "      <td>Service</td>\n",
              "      <td>No</td>\n",
              "      <td>Private</td>\n",
              "      <td>No</td>\n",
              "      <td>Both</td>\n",
              "      <td>Yes</td>\n",
              "      <td>Platform</td>\n",
              "      <td>Global</td>\n",
              "      <td>Linear</td>\n",
              "      <td>Yes</td>\n",
              "      <td>...</td>\n",
              "      <td>Yes</td>\n",
              "      <td>Yes</td>\n",
              "      <td>Tier_1</td>\n",
              "      <td>500</td>\n",
              "      <td>Medium</td>\n",
              "      <td>0</td>\n",
              "      <td>0</td>\n",
              "      <td>0</td>\n",
              "      <td>None</td>\n",
              "      <td>0</td>\n",
              "      <td>None</td>\n",
              "      <td>0</td>\n",
              "      <td>Low</td>\n",
              "      <td>Low</td>\n",
              "      <td>Yes</td>\n",
              "      <td>No</td>\n",
              "      <td>High</td>\n",
              "      <td>No Info</td>\n",
              "      <td>No</td>\n",
              "      <td>No</td>\n",
              "      <td>Yes</td>\n",
              "      <td>No</td>\n",
              "      <td>No</td>\n",
              "      <td>No</td>\n",
              "      <td>No Info</td>\n",
              "      <td>9626884</td>\n",
              "      <td>No</td>\n",
              "      <td>Yes</td>\n",
              "      <td>No</td>\n",
              "      <td>2.0</td>\n",
              "      <td>Low</td>\n",
              "      <td>0</td>\n",
              "      <td>1.5</td>\n",
              "      <td>0.45</td>\n",
              "      <td>No Info</td>\n",
              "      <td>No Info</td>\n",
              "      <td>11.56</td>\n",
              "      <td>NaN</td>\n",
              "      <td>NaN</td>\n",
              "      <td>0</td>\n",
              "    </tr>\n",
              "    <tr>\n",
              "      <th>1</th>\n",
              "      <td>Success</td>\n",
              "      <td>2011</td>\n",
              "      <td>3</td>\n",
              "      <td>125.0</td>\n",
              "      <td>Market Research|Marketing|Crowdfunding</td>\n",
              "      <td>Marketing, sales</td>\n",
              "      <td>NaN</td>\n",
              "      <td>NaN</td>\n",
              "      <td>NaN</td>\n",
              "      <td>No</td>\n",
              "      <td>NaN</td>\n",
              "      <td>NaN</td>\n",
              "      <td>NaN</td>\n",
              "      <td>United States</td>\n",
              "      <td>North America</td>\n",
              "      <td>5</td>\n",
              "      <td>0</td>\n",
              "      <td>2</td>\n",
              "      <td>0</td>\n",
              "      <td>4</td>\n",
              "      <td>20</td>\n",
              "      <td>No</td>\n",
              "      <td>0</td>\n",
              "      <td>medium</td>\n",
              "      <td>Yes</td>\n",
              "      <td>Large</td>\n",
              "      <td>Yes</td>\n",
              "      <td>Yes</td>\n",
              "      <td>No</td>\n",
              "      <td>No</td>\n",
              "      <td>Product</td>\n",
              "      <td>No</td>\n",
              "      <td>Public</td>\n",
              "      <td>Yes</td>\n",
              "      <td>Both</td>\n",
              "      <td>No</td>\n",
              "      <td>Platform</td>\n",
              "      <td>Local</td>\n",
              "      <td>Non-Linear</td>\n",
              "      <td>No</td>\n",
              "      <td>...</td>\n",
              "      <td>Yes</td>\n",
              "      <td>Yes</td>\n",
              "      <td>Tier_1</td>\n",
              "      <td>500</td>\n",
              "      <td>High</td>\n",
              "      <td>0</td>\n",
              "      <td>0</td>\n",
              "      <td>0</td>\n",
              "      <td>Medium</td>\n",
              "      <td>13</td>\n",
              "      <td>None</td>\n",
              "      <td>34</td>\n",
              "      <td>High</td>\n",
              "      <td>Medium</td>\n",
              "      <td>Yes</td>\n",
              "      <td>No</td>\n",
              "      <td>Low</td>\n",
              "      <td>No Info</td>\n",
              "      <td>No</td>\n",
              "      <td>Yes</td>\n",
              "      <td>Yes</td>\n",
              "      <td>No</td>\n",
              "      <td>No</td>\n",
              "      <td>Yes</td>\n",
              "      <td>Medium</td>\n",
              "      <td>1067034</td>\n",
              "      <td>Yes</td>\n",
              "      <td>Yes</td>\n",
              "      <td>No</td>\n",
              "      <td>3.0</td>\n",
              "      <td>Medium</td>\n",
              "      <td>0</td>\n",
              "      <td>6.666666667</td>\n",
              "      <td>5</td>\n",
              "      <td>Not Applicable</td>\n",
              "      <td>10</td>\n",
              "      <td>9</td>\n",
              "      <td>Trough</td>\n",
              "      <td>2 to 5</td>\n",
              "      <td>8</td>\n",
              "    </tr>\n",
              "    <tr>\n",
              "      <th>2</th>\n",
              "      <td>Success</td>\n",
              "      <td>2011</td>\n",
              "      <td>3</td>\n",
              "      <td>455.0</td>\n",
              "      <td>Analytics|Cloud Computing|Software Development</td>\n",
              "      <td>operations</td>\n",
              "      <td>TechStars|Streamlined Ventures|Amplify Partner...</td>\n",
              "      <td>14.0</td>\n",
              "      <td>0.0</td>\n",
              "      <td>No</td>\n",
              "      <td>12/1/2011</td>\n",
              "      <td>10/23/2013</td>\n",
              "      <td>2350000.0</td>\n",
              "      <td>United States</td>\n",
              "      <td>North America</td>\n",
              "      <td>15</td>\n",
              "      <td>0</td>\n",
              "      <td>3</td>\n",
              "      <td>0</td>\n",
              "      <td>7</td>\n",
              "      <td>10</td>\n",
              "      <td>No</td>\n",
              "      <td>0</td>\n",
              "      <td>low</td>\n",
              "      <td>Yes</td>\n",
              "      <td>Medium</td>\n",
              "      <td>No</td>\n",
              "      <td>No</td>\n",
              "      <td>No</td>\n",
              "      <td>No</td>\n",
              "      <td>Both</td>\n",
              "      <td>Yes</td>\n",
              "      <td>Private</td>\n",
              "      <td>Yes</td>\n",
              "      <td>Both</td>\n",
              "      <td>Yes</td>\n",
              "      <td>cloud</td>\n",
              "      <td>Local</td>\n",
              "      <td>Non-Linear</td>\n",
              "      <td>No</td>\n",
              "      <td>...</td>\n",
              "      <td>Yes</td>\n",
              "      <td>Yes</td>\n",
              "      <td>Tier_2</td>\n",
              "      <td>500</td>\n",
              "      <td>High</td>\n",
              "      <td>0</td>\n",
              "      <td>0</td>\n",
              "      <td>1</td>\n",
              "      <td>Medium</td>\n",
              "      <td>18</td>\n",
              "      <td>None</td>\n",
              "      <td>36</td>\n",
              "      <td>High</td>\n",
              "      <td>Medium</td>\n",
              "      <td>Yes</td>\n",
              "      <td>No</td>\n",
              "      <td>Low</td>\n",
              "      <td>No Info</td>\n",
              "      <td>Yes</td>\n",
              "      <td>Yes</td>\n",
              "      <td>Yes</td>\n",
              "      <td>No</td>\n",
              "      <td>No</td>\n",
              "      <td>No</td>\n",
              "      <td>Low</td>\n",
              "      <td>71391</td>\n",
              "      <td>Yes</td>\n",
              "      <td>Yes</td>\n",
              "      <td>Yes</td>\n",
              "      <td>3.0</td>\n",
              "      <td>Medium</td>\n",
              "      <td>0</td>\n",
              "      <td>3.333333333</td>\n",
              "      <td>2.35</td>\n",
              "      <td>Not Applicable</td>\n",
              "      <td>2</td>\n",
              "      <td>7.344444444</td>\n",
              "      <td>Trough</td>\n",
              "      <td>2 to 5</td>\n",
              "      <td>9</td>\n",
              "    </tr>\n",
              "    <tr>\n",
              "      <th>3</th>\n",
              "      <td>Success</td>\n",
              "      <td>2009</td>\n",
              "      <td>5</td>\n",
              "      <td>-99.0</td>\n",
              "      <td>Mobile|Analytics</td>\n",
              "      <td>Marketing &amp; Sales</td>\n",
              "      <td>Michael Birch|Max Levchin|Sequoia Capital|Keit...</td>\n",
              "      <td>45.0</td>\n",
              "      <td>10.0</td>\n",
              "      <td>No</td>\n",
              "      <td>6/20/2009</td>\n",
              "      <td>5/10/2012</td>\n",
              "      <td>10250000.0</td>\n",
              "      <td>United States</td>\n",
              "      <td>North America</td>\n",
              "      <td>6</td>\n",
              "      <td>0</td>\n",
              "      <td>2</td>\n",
              "      <td>0</td>\n",
              "      <td>4</td>\n",
              "      <td>50</td>\n",
              "      <td>Yes</td>\n",
              "      <td>0</td>\n",
              "      <td>low</td>\n",
              "      <td>No</td>\n",
              "      <td>Large</td>\n",
              "      <td>Yes</td>\n",
              "      <td>Yes</td>\n",
              "      <td>No</td>\n",
              "      <td>No</td>\n",
              "      <td>Product</td>\n",
              "      <td>Yes</td>\n",
              "      <td>Public</td>\n",
              "      <td>Yes</td>\n",
              "      <td>Structured</td>\n",
              "      <td>Yes</td>\n",
              "      <td>Platform</td>\n",
              "      <td>Local</td>\n",
              "      <td>Non-Linear</td>\n",
              "      <td>No</td>\n",
              "      <td>...</td>\n",
              "      <td>Yes</td>\n",
              "      <td>Yes</td>\n",
              "      <td>Tier_2</td>\n",
              "      <td>No Info</td>\n",
              "      <td>Low</td>\n",
              "      <td>0</td>\n",
              "      <td>0</td>\n",
              "      <td>0</td>\n",
              "      <td>Medium</td>\n",
              "      <td>2</td>\n",
              "      <td>None</td>\n",
              "      <td>15.5</td>\n",
              "      <td>Medium</td>\n",
              "      <td>Medium</td>\n",
              "      <td>Yes</td>\n",
              "      <td>No</td>\n",
              "      <td>Low</td>\n",
              "      <td>Good</td>\n",
              "      <td>No</td>\n",
              "      <td>Yes</td>\n",
              "      <td>Yes</td>\n",
              "      <td>No</td>\n",
              "      <td>No</td>\n",
              "      <td>No</td>\n",
              "      <td>Low</td>\n",
              "      <td>11847</td>\n",
              "      <td>No</td>\n",
              "      <td>Yes</td>\n",
              "      <td>Yes</td>\n",
              "      <td>4.0</td>\n",
              "      <td>Medium</td>\n",
              "      <td>2</td>\n",
              "      <td>10</td>\n",
              "      <td>10.25</td>\n",
              "      <td>Not Applicable</td>\n",
              "      <td>1</td>\n",
              "      <td>8.7</td>\n",
              "      <td>Trough</td>\n",
              "      <td>2 to 5</td>\n",
              "      <td>5</td>\n",
              "    </tr>\n",
              "    <tr>\n",
              "      <th>4</th>\n",
              "      <td>Success</td>\n",
              "      <td>2010</td>\n",
              "      <td>4</td>\n",
              "      <td>496.0</td>\n",
              "      <td>Analytics|Marketing|Enterprise Software</td>\n",
              "      <td>Marketing &amp; Sales</td>\n",
              "      <td>DFJ Frontier|Draper Nexus Ventures|Gil Elbaz|A...</td>\n",
              "      <td>39.0</td>\n",
              "      <td>3.0</td>\n",
              "      <td>No</td>\n",
              "      <td>4/1/2010</td>\n",
              "      <td>12/11/2013</td>\n",
              "      <td>5500000.0</td>\n",
              "      <td>United States</td>\n",
              "      <td>North America</td>\n",
              "      <td>7</td>\n",
              "      <td>0</td>\n",
              "      <td>1</td>\n",
              "      <td>1</td>\n",
              "      <td>8</td>\n",
              "      <td>40</td>\n",
              "      <td>No</td>\n",
              "      <td>0</td>\n",
              "      <td>high</td>\n",
              "      <td>No</td>\n",
              "      <td>Small</td>\n",
              "      <td>No</td>\n",
              "      <td>No</td>\n",
              "      <td>No</td>\n",
              "      <td>No</td>\n",
              "      <td>Product</td>\n",
              "      <td>Yes</td>\n",
              "      <td>Public</td>\n",
              "      <td>Yes</td>\n",
              "      <td>Both</td>\n",
              "      <td>No</td>\n",
              "      <td>Platform</td>\n",
              "      <td>Local</td>\n",
              "      <td>Non-Linear</td>\n",
              "      <td>Yes</td>\n",
              "      <td>...</td>\n",
              "      <td>Yes</td>\n",
              "      <td>Yes</td>\n",
              "      <td>None</td>\n",
              "      <td>500</td>\n",
              "      <td>High</td>\n",
              "      <td>0</td>\n",
              "      <td>0</td>\n",
              "      <td>0</td>\n",
              "      <td>Low</td>\n",
              "      <td>5</td>\n",
              "      <td>Few</td>\n",
              "      <td>23</td>\n",
              "      <td>Medium</td>\n",
              "      <td>Medium</td>\n",
              "      <td>Yes</td>\n",
              "      <td>No</td>\n",
              "      <td>Low</td>\n",
              "      <td>Bad</td>\n",
              "      <td>Yes</td>\n",
              "      <td>Yes</td>\n",
              "      <td>Yes</td>\n",
              "      <td>No</td>\n",
              "      <td>No</td>\n",
              "      <td>No</td>\n",
              "      <td>Low</td>\n",
              "      <td>201814</td>\n",
              "      <td>Yes</td>\n",
              "      <td>Yes</td>\n",
              "      <td>No</td>\n",
              "      <td>3.0</td>\n",
              "      <td>Medium</td>\n",
              "      <td>0</td>\n",
              "      <td>10</td>\n",
              "      <td>5.5</td>\n",
              "      <td>Not Applicable</td>\n",
              "      <td>13</td>\n",
              "      <td>9.822222222</td>\n",
              "      <td>NaN</td>\n",
              "      <td>NaN</td>\n",
              "      <td>6</td>\n",
              "    </tr>\n",
              "  </tbody>\n",
              "</table>\n",
              "<p>5 rows × 100 columns</p>\n",
              "</div>"
            ],
            "text/plain": [
              "  Dependent-Company Status  ... Renown score\n",
              "0                  Success  ...            0\n",
              "1                  Success  ...            8\n",
              "2                  Success  ...            9\n",
              "3                  Success  ...            5\n",
              "4                  Success  ...            6\n",
              "\n",
              "[5 rows x 100 columns]"
            ]
          },
          "metadata": {
            "tags": []
          },
          "execution_count": 12
        }
      ]
    },
    {
      "cell_type": "code",
      "metadata": {
        "id": "388DTAtFpNyl"
      },
      "source": [
        "# Replace \"no info\" with nans\n",
        "df = df.replace(\"No Info\", np.nan) "
      ],
      "execution_count": 13,
      "outputs": []
    },
    {
      "cell_type": "markdown",
      "metadata": {
        "id": "n2LIfoeBpWFp"
      },
      "source": [
        "This looks good enough for now. There are a couple columns we'll have to manipualte in order for them to become good features. Other than that, we need to decide on our train/validation/test split."
      ]
    },
    {
      "cell_type": "code",
      "metadata": {
        "id": "5IyNKTHNpX4W",
        "outputId": "b0c973e7-0791-4ff7-9c5f-ff5e367dd840",
        "colab": {
          "base_uri": "https://localhost:8080/",
          "height": 35
        }
      },
      "source": [
        "# Take a look at the shape\n",
        "df.shape"
      ],
      "execution_count": 14,
      "outputs": [
        {
          "output_type": "execute_result",
          "data": {
            "text/plain": [
              "(472, 100)"
            ]
          },
          "metadata": {
            "tags": []
          },
          "execution_count": 14
        }
      ]
    },
    {
      "cell_type": "markdown",
      "metadata": {
        "id": "-WZHqP9apZ5x"
      },
      "source": [
        "472 observations. Not too many, so we probably don't want to try using a validation set here. Instead, we'll use k-fold validation to still have our model train on a relatively large amount of data, and give us feedback on it's performance.\n",
        "\n",
        "We do however want a test set. We do have dates, but since some of them are missing values, we're better off with random selection.\n",
        "\n",
        "More EDA still has to be done, but we know we'll use 15% of our data as our training."
      ]
    },
    {
      "cell_type": "code",
      "metadata": {
        "id": "3esiuRpWpav1",
        "outputId": "1918f47e-5c9d-42b0-abde-d560a69e3fc7",
        "colab": {
          "base_uri": "https://localhost:8080/",
          "height": 390
        }
      },
      "source": [
        "# Look at the head of Industry of company\n",
        "df['Industry of company'].head(20)"
      ],
      "execution_count": 15,
      "outputs": [
        {
          "output_type": "execute_result",
          "data": {
            "text/plain": [
              "0                                                   NaN\n",
              "1                Market Research|Marketing|Crowdfunding\n",
              "2        Analytics|Cloud Computing|Software Development\n",
              "3                                      Mobile|Analytics\n",
              "4               Analytics|Marketing|Enterprise Software\n",
              "5                          Food & Beverages|Hospitality\n",
              "6                                             Analytics\n",
              "7     Cloud Computing|Network / Hosting / Infrastruc...\n",
              "8                            Analytics|Mobile|Marketing\n",
              "9                  Healthcare|Pharmaceuticals|Analytics\n",
              "10                        Analytics|Enterprise Software\n",
              "11                                                  NaN\n",
              "12                              Media|Finance|Marketing\n",
              "13                                      Music|Analytics\n",
              "14                          E-Commerce|Gaming|Analytics\n",
              "15                                 Healthcare|Analytics\n",
              "16                                            Analytics\n",
              "17                                            Marketing\n",
              "18                                                  NaN\n",
              "19                            Advertising|Retail|Mobile\n",
              "Name: Industry of company, dtype: object"
            ]
          },
          "metadata": {
            "tags": []
          },
          "execution_count": 15
        }
      ]
    },
    {
      "cell_type": "markdown",
      "metadata": {
        "id": "Dld_7J26pfNm"
      },
      "source": [
        "# Process of finding the count for all unique values within industry of company"
      ]
    },
    {
      "cell_type": "code",
      "metadata": {
        "id": "Dq3anXqCpbwD"
      },
      "source": [
        "dtest = df['Industry of company'].replace(np.NaN, \"Unkown\")"
      ],
      "execution_count": 16,
      "outputs": []
    },
    {
      "cell_type": "code",
      "metadata": {
        "id": "l_-fQeHopmsA",
        "outputId": "ac66ff05-95e9-434b-a958-4b485ed35954",
        "colab": {
          "base_uri": "https://localhost:8080/",
          "height": 35
        }
      },
      "source": [
        "type(dtest)"
      ],
      "execution_count": 17,
      "outputs": [
        {
          "output_type": "execute_result",
          "data": {
            "text/plain": [
              "pandas.core.series.Series"
            ]
          },
          "metadata": {
            "tags": []
          },
          "execution_count": 17
        }
      ]
    },
    {
      "cell_type": "code",
      "metadata": {
        "id": "MFmWitilpnko",
        "outputId": "6b277917-e455-418d-f8b2-595c158267e8",
        "colab": {
          "base_uri": "https://localhost:8080/",
          "height": 35
        }
      },
      "source": [
        "text = \"|\".join(dtest)\n",
        "len(text)"
      ],
      "execution_count": 18,
      "outputs": [
        {
          "output_type": "execute_result",
          "data": {
            "text/plain": [
              "9308"
            ]
          },
          "metadata": {
            "tags": []
          },
          "execution_count": 18
        }
      ]
    },
    {
      "cell_type": "code",
      "metadata": {
        "id": "4Lz7Uolhpoe-",
        "outputId": "5f919805-3ea6-434a-997f-d4c6fdc5eef5",
        "colab": {
          "base_uri": "https://localhost:8080/",
          "height": 55
        }
      },
      "source": [
        "print(text)"
      ],
      "execution_count": 19,
      "outputs": [
        {
          "output_type": "stream",
          "text": [
            "Unkown|Market Research|Marketing|Crowdfunding|Analytics|Cloud Computing|Software Development|Mobile|Analytics|Analytics|Marketing|Enterprise Software|Food & Beverages|Hospitality|Analytics|Cloud Computing|Network / Hosting / Infrastructure|Analytics|Mobile|Marketing|Healthcare|Pharmaceuticals|Analytics|Analytics|Enterprise Software|Unkown|Media|Finance|Marketing|Music|Analytics|E-Commerce|Gaming|Analytics|Healthcare|Analytics|Analytics|Marketing|Unkown|Advertising|Retail|Mobile|Marketing|Unkown|Analytics|Unkown|Mobile|Retail|Analytics|Analytics|Finance|Unkown|Analytics|Software Development|Marketing|Software Development|Analytics|Security|Analytics|Advertising|Unkown|Marketing|Email|Analytics|Security|Network / Hosting / Infrastructure|Human Resources (HR)|Marketing|Career / Job Search|Cloud Computing|Healthcare|E-Commerce|Media|Analytics|Publishing|Mobile|Education|E-Commerce|Energy|Media|Media|Analytics|Unkown|Unkown|Unkown|Unkown|Analytics|Enterprise Software|Unkown|Analytics|Unkown|E-Commerce|Analytics|E-Commerce|Advertising|Analytics|Enterprise Software|Unkown|Unkown|Cloud Computing|Advertising|Marketing|Analytics|Analytics|Advertising|Cloud Computing|Marketing|Unkown|Analytics|Network / Hosting / Infrastructure|Finance|Mobile|Analytics|E-Commerce|Marketing|Education|E-Commerce|Mobile|Unkown|Unkown|E-Commerce|Retail|Marketing|Mobile|Advertising|Deals|Analytics|Market Research|Mobile|Advertising|Mobile|Analytics|Analytics|Media|Analytics|Entertainment|Analytics|Retail|Mobile|Analytics|Cloud Computing|Analytics|Transportation|Analytics|Analytics|Publishing|Mobile|Analytics|Mobile|Human Resources (HR)|Enterprise Software|Career / Job Search|Social Networking|Analytics|Analytics|Marketing|Analytics|Analytics|Marketing|Analytics|E-Commerce|Analytics|Media|Marketing|Analytics|Analytics|Marketing|Analytics|Food & Beverages|Social Networking|Mobile|E-Commerce|Analytics|Advertising|Mobile|Media|Advertising|Analytics|Marketing|Analytics|E-Commerce|Retail|Analytics|Social Networking|Healthcare|E-Commerce|Mobile|Healthcare|Analytics|Enterprise Software|Unkown|Real Estate|Unkown|E-Commerce|Unkown|Analytics|Analytics|Analytics|Analytics|Marketing|Mobile|Advertising|Social Networking|Marketing|E-Commerce|Analytics|Enterprise Software|Network / Hosting / Infrastructure|Food & Beverages|Analytics|Analytics|E-Commerce|Marketing|Retail|Market Research|Analytics|Unkown|Unkown|Retail|Mobile|Mobile|Marketing|Unkown|Analytics|Marketing|Network / Hosting / Infrastructure|Enterprise Software|Real Estate|Mobile|E-Commerce|Media|Entertainment|Analytics|Network / Hosting / Infrastructure|Publishing|E-Commerce|Email|Analytics|Marketing|Analytics|Crowdfunding|Search|Marketing|Analytics|Healthcare|Network / Hosting / Infrastructure|Enterprise Software|Software Development|Analytics|Unkown|Marketing|Unkown|Market Research|Healthcare|Analytics|Mobile|Marketing|Marketing|Analytics|Telecommunications|Marketing|Marketing|Enterprise Software|Analytics|Unkown|Network / Hosting / Infrastructure|Media|Unkown|E-Commerce|Unkown|Mobile|E-Commerce|Food & Beverages|Mobile|Mobile|Education|Social Networking|Mobile|Entertainment|Media|Mobile|Unkown|Unkown|Search|Media|Advertising|Gaming|Marketing|Unkown|Unkown|Unkown|Unkown|Analytics|Unkown|Unkown|Unkown|Analytics|Enterprise Software|Analytics|Finance|Analytics|Insurance|Unkown|E-Commerce|Retail|Mobile|Gaming|CleanTech|Social Networking|Energy|Analytics|Advertising|Media|Mobile|Marketing|Unkown|Unkown|Analytics|Software Development|Marketing|Space Travel|Analytics|Unkown|Search|Enterprise Software|Mobile|Unkown|Analytics|Marketing|Software Development|Unkown|Analytics|Security|Enterprise Software|Media|Publishing|Analytics|Social Networking|Email|Media|Analytics|Marketing|Unkown|E-Commerce|Finance|Mobile|Analytics|Marketing|Analytics|Energy|CleanTech|Analytics|Energy|Unkown|Analytics|Unkown|Advertising|Marketing|Analytics|Unkown|Enterprise Software|Retail|Analytics|Analytics|Analytics|Enterprise Software|Cloud Computing|Software Development|Marketing|Analytics|Analytics|Analytics|Unkown|Analytics|Enterprise Software|Unkown|Advertising|Market Research|Software Development|Enterprise Software|Software Development|Energy|Analytics|CleanTech|Analytics|Real Estate|Energy|Security|Cloud Computing|CleanTech|Energy|Unkown|E-Commerce|Analytics|Advertising|Retail|Mobile|E-Commerce|Enterprise Software|Analytics|Unkown|Unkown|Analytics|E-Commerce|Analytics|Mobile|Retail|Unkown|Analytics|Entertainment|Unkown|Music|Analytics|E-Commerce|Mobile|Finance|Unkown|Analytics|Enterprise Software|Analytics|Marketing|Network / Hosting / Infrastructure|Analytics|Unkown|Unkown|E-Commerce|Publishing|Marketing|Unkown|Unkown|Analytics|Marketing|E-Commerce|Market Research|Analytics|Deals|Finance|Marketing|Unkown|Cloud Computing|Energy|Network / Hosting / Infrastructure|Enterprise Software|Security|Mobile|Analytics|Education|Career / Job Search|Advertising|Analytics|Analytics|Analytics|Analytics|Marketing|Analytics|Analytics|Retail|Mobile|Enterprise Software|Market Research|Cloud Computing|E-Commerce|Analytics|Analytics|Analytics|Retail|Media|Analytics|Entertainment|Analytics|E-Commerce|Analytics|Analytics|Marketing|Analytics|Analytics|E-Commerce|Search|Social Networking|Telecommunications|Publishing|Unkown|Advertising|Unkown|Network / Hosting / Infrastructure|Publishing|Unkown|Mobile|Classifieds|Network / Hosting / Infrastructure|Media|Advertising|E-Commerce|Unkown|Unkown|Unkown|Software Development|Search|Healthcare|Unkown|Mobile|Telecommunications|Entertainment|E-Commerce|Cloud Computing|E-Commerce|Classifieds|Gaming|Entertainment|Marketing|Unkown|Unkown|Food & Beverages|Unkown|Unkown|Marketing|Mobile|E-Commerce|Mobile|Cloud Computing|Enterprise Software|Software Development|Unkown|Unkown|Music|Media|Software Development|Analytics|Advertising|E-Commerce|Analytics|Advertising|Enterprise Software|Cloud Computing|Analytics|Travel|Deals|Analytics|Hospitality|Media|E-Commerce|Analytics|Entertainment|E-Commerce|Analytics|Network / Hosting / Infrastructure|Analytics|Advertising|Marketing|Entertainment|Media|Mobile|Analytics|Advertising|Mobile|Analytics|Mobile|Media|Enterprise Software|Marketing|Media|Analytics|Advertising|E-Commerce|Analytics|Marketing|Analytics|Search|Hospitality|Advertising|Social Networking|Analytics|Gaming|Cloud Computing|Social Networking|Analytics|Analytics|Mobile|Enterprise Software|Software Development|Analytics|Analytics|Government|Analytics|Analytics|Music|Search|Analytics|Analytics|Analytics|Entertainment|Analytics|Advertising|Analytics|Analytics|Education|Analytics|Finance|Social Networking|Analytics|Marketing|Analytics|Marketing|Security|Analytics|Analytics|Marketing|Advertising|E-Commerce|Analytics|Marketing|Analytics|Analytics|Marketing|Analytics|Analytics|Analytics|Enterprise Software|Advertising|Entertainment|Media|Analytics|Analytics|Email|Software Development|Analytics|Analytics|Software Development|Analytics|Analytics|Mobile|Analytics|Social Networking|Network / Hosting / Infrastructure|Analytics|Marketing|E-Commerce|Analytics|Analytics|Software Development|Analytics|Telecommunications|E-Commerce|Food & Beverages|Mobile|Unkown|Unkown|Human Resources (HR)|Career / Job Search|Unkown|E-Commerce|Retail|Analytics|Analytics|Analytics|Analytics|Mobile|Analytics|Analytics|Enterprise Software|Analytics|Advertising|Human Resources (HR)|Enterprise Software|Career / Job Search|Social Networking|Analytics|Analytics|Advertising|Retail|Analytics|Analytics|Search|Analytics|Analytics|Hospitality|Mobile|Enterprise Software|E-Commerce|Analytics|Marketing|E-Commerce|Analytics|Mobile|Advertising|E-Commerce|Analytics|E-Commerce|Analytics|Social Networking|Marketing|Network / Hosting / Infrastructure|Publishing|Analytics|Marketing|Analytics|Social Networking|Network / Hosting / Infrastructure|Cloud Computing|Analytics|Media|Analytics|Unkown|Unkown|Energy|Unkown|Cloud Computing|Media|Entertainment|Media|Unkown|Unkown|CleanTech|Energy|Healthcare|Analytics|Mobile|Food & Beverages|Healthcare|Market Research|Mobile|Human Resources (HR)|Analytics|Marketing|Career / Job Search|Unkown|Healthcare|Unkown|Software Development|Analytics|Media|Analytics|Unkown|energy|analytics|Education|Search|Unkown|Advertising|Advertising|Mobile|Marketing|Email|Advertising|Marketing|Search|Advertising|Marketing|Unkown|Unkown|Advertising|Marketing|Unkown|Unkown|Unkown|Unkown|Unkown|Unkown|Music|Mobile|Social Networking|Music|Entertainment|Media|Unkown|Unkown|Unkown|Network / Hosting / Infrastructure|Telecommunications|Enterprise Software|Unkown|Cloud Computing|Email|Marketing|Cloud Computing|E-Commerce|Mobile|Unkown|Network / Hosting / Infrastructure|Marketing|Unkown|Unkown|Advertising|Analytics|E-Commerce|Food & Beverages|E-Commerce|Unkown|Unkown|Social Networking|Unkown|Social Networking|Telecommunications|Unkown|Music|E-Commerce|Search|Unkown|Gaming|Entertainment|Mobile|Unkown|Unkown|Unkown|E-Commerce|Email|Software Development|Unkown|Unkown|Unkown|Unkown|Advertising|Unkown|Energy|Unkown|Unkown|Gaming|Unkown|Unkown|Cloud Computing|Unkown|Transportation|Human Resources (HR)|Career / Job Search|E-Commerce|Network / Hosting / Infrastructure|Unkown|Unkown|Unkown|Music|Entertainment|Media|Unkown|E-Commerce|Unkown|Analytics|E-Commerce|Analytics|Marketing|Analytics|Healthcare\n"
          ],
          "name": "stdout"
        }
      ]
    },
    {
      "cell_type": "code",
      "metadata": {
        "id": "sPGBivT3ppfJ"
      },
      "source": [
        "industrylist = text.split('|')"
      ],
      "execution_count": 20,
      "outputs": []
    },
    {
      "cell_type": "code",
      "metadata": {
        "id": "h9AO16PFpq0I",
        "outputId": "ad491a1f-86fb-4646-9b02-1b102b8981ae",
        "colab": {
          "base_uri": "https://localhost:8080/",
          "height": 55
        }
      },
      "source": [
        "print(industrylist)"
      ],
      "execution_count": 21,
      "outputs": [
        {
          "output_type": "stream",
          "text": [
            "['Unkown', 'Market Research', 'Marketing', 'Crowdfunding', 'Analytics', 'Cloud Computing', 'Software Development', 'Mobile', 'Analytics', 'Analytics', 'Marketing', 'Enterprise Software', 'Food & Beverages', 'Hospitality', 'Analytics', 'Cloud Computing', 'Network / Hosting / Infrastructure', 'Analytics', 'Mobile', 'Marketing', 'Healthcare', 'Pharmaceuticals', 'Analytics', 'Analytics', 'Enterprise Software', 'Unkown', 'Media', 'Finance', 'Marketing', 'Music', 'Analytics', 'E-Commerce', 'Gaming', 'Analytics', 'Healthcare', 'Analytics', 'Analytics', 'Marketing', 'Unkown', 'Advertising', 'Retail', 'Mobile', 'Marketing', 'Unkown', 'Analytics', 'Unkown', 'Mobile', 'Retail', 'Analytics', 'Analytics', 'Finance', 'Unkown', 'Analytics', 'Software Development', 'Marketing', 'Software Development', 'Analytics', 'Security', 'Analytics', 'Advertising', 'Unkown', 'Marketing', 'Email', 'Analytics', 'Security', 'Network / Hosting / Infrastructure', 'Human Resources (HR)', 'Marketing', 'Career / Job Search', 'Cloud Computing', 'Healthcare', 'E-Commerce', 'Media', 'Analytics', 'Publishing', 'Mobile', 'Education', 'E-Commerce', 'Energy', 'Media', 'Media', 'Analytics', 'Unkown', 'Unkown', 'Unkown', 'Unkown', 'Analytics', 'Enterprise Software', 'Unkown', 'Analytics', 'Unkown', 'E-Commerce', 'Analytics', 'E-Commerce', 'Advertising', 'Analytics', 'Enterprise Software', 'Unkown', 'Unkown', 'Cloud Computing', 'Advertising', 'Marketing', 'Analytics', 'Analytics', 'Advertising', 'Cloud Computing', 'Marketing', 'Unkown', 'Analytics', 'Network / Hosting / Infrastructure', 'Finance', 'Mobile', 'Analytics', 'E-Commerce', 'Marketing', 'Education', 'E-Commerce', 'Mobile', 'Unkown', 'Unkown', 'E-Commerce', 'Retail', 'Marketing', 'Mobile', 'Advertising', 'Deals', 'Analytics', 'Market Research', 'Mobile', 'Advertising', 'Mobile', 'Analytics', 'Analytics', 'Media', 'Analytics', 'Entertainment', 'Analytics', 'Retail', 'Mobile', 'Analytics', 'Cloud Computing', 'Analytics', 'Transportation', 'Analytics', 'Analytics', 'Publishing', 'Mobile', 'Analytics', 'Mobile', 'Human Resources (HR)', 'Enterprise Software', 'Career / Job Search', 'Social Networking', 'Analytics', 'Analytics', 'Marketing', 'Analytics', 'Analytics', 'Marketing', 'Analytics', 'E-Commerce', 'Analytics', 'Media', 'Marketing', 'Analytics', 'Analytics', 'Marketing', 'Analytics', 'Food & Beverages', 'Social Networking', 'Mobile', 'E-Commerce', 'Analytics', 'Advertising', 'Mobile', 'Media', 'Advertising', 'Analytics', 'Marketing', 'Analytics', 'E-Commerce', 'Retail', 'Analytics', 'Social Networking', 'Healthcare', 'E-Commerce', 'Mobile', 'Healthcare', 'Analytics', 'Enterprise Software', 'Unkown', 'Real Estate', 'Unkown', 'E-Commerce', 'Unkown', 'Analytics', 'Analytics', 'Analytics', 'Analytics', 'Marketing', 'Mobile', 'Advertising', 'Social Networking', 'Marketing', 'E-Commerce', 'Analytics', 'Enterprise Software', 'Network / Hosting / Infrastructure', 'Food & Beverages', 'Analytics', 'Analytics', 'E-Commerce', 'Marketing', 'Retail', 'Market Research', 'Analytics', 'Unkown', 'Unkown', 'Retail', 'Mobile', 'Mobile', 'Marketing', 'Unkown', 'Analytics', 'Marketing', 'Network / Hosting / Infrastructure', 'Enterprise Software', 'Real Estate', 'Mobile', 'E-Commerce', 'Media', 'Entertainment', 'Analytics', 'Network / Hosting / Infrastructure', 'Publishing', 'E-Commerce', 'Email', 'Analytics', 'Marketing', 'Analytics', 'Crowdfunding', 'Search', 'Marketing', 'Analytics', 'Healthcare', 'Network / Hosting / Infrastructure', 'Enterprise Software', 'Software Development', 'Analytics', 'Unkown', 'Marketing', 'Unkown', 'Market Research', 'Healthcare', 'Analytics', 'Mobile', 'Marketing', 'Marketing', 'Analytics', 'Telecommunications', 'Marketing', 'Marketing', 'Enterprise Software', 'Analytics', 'Unkown', 'Network / Hosting / Infrastructure', 'Media', 'Unkown', 'E-Commerce', 'Unkown', 'Mobile', 'E-Commerce', 'Food & Beverages', 'Mobile', 'Mobile', 'Education', 'Social Networking', 'Mobile', 'Entertainment', 'Media', 'Mobile', 'Unkown', 'Unkown', 'Search', 'Media', 'Advertising', 'Gaming', 'Marketing', 'Unkown', 'Unkown', 'Unkown', 'Unkown', 'Analytics', 'Unkown', 'Unkown', 'Unkown', 'Analytics', 'Enterprise Software', 'Analytics', 'Finance', 'Analytics', 'Insurance', 'Unkown', 'E-Commerce', 'Retail', 'Mobile', 'Gaming', 'CleanTech', 'Social Networking', 'Energy', 'Analytics', 'Advertising', 'Media', 'Mobile', 'Marketing', 'Unkown', 'Unkown', 'Analytics', 'Software Development', 'Marketing', 'Space Travel', 'Analytics', 'Unkown', 'Search', 'Enterprise Software', 'Mobile', 'Unkown', 'Analytics', 'Marketing', 'Software Development', 'Unkown', 'Analytics', 'Security', 'Enterprise Software', 'Media', 'Publishing', 'Analytics', 'Social Networking', 'Email', 'Media', 'Analytics', 'Marketing', 'Unkown', 'E-Commerce', 'Finance', 'Mobile', 'Analytics', 'Marketing', 'Analytics', 'Energy', 'CleanTech', 'Analytics', 'Energy', 'Unkown', 'Analytics', 'Unkown', 'Advertising', 'Marketing', 'Analytics', 'Unkown', 'Enterprise Software', 'Retail', 'Analytics', 'Analytics', 'Analytics', 'Enterprise Software', 'Cloud Computing', 'Software Development', 'Marketing', 'Analytics', 'Analytics', 'Analytics', 'Unkown', 'Analytics', 'Enterprise Software', 'Unkown', 'Advertising', 'Market Research', 'Software Development', 'Enterprise Software', 'Software Development', 'Energy', 'Analytics', 'CleanTech', 'Analytics', 'Real Estate', 'Energy', 'Security', 'Cloud Computing', 'CleanTech', 'Energy', 'Unkown', 'E-Commerce', 'Analytics', 'Advertising', 'Retail', 'Mobile', 'E-Commerce', 'Enterprise Software', 'Analytics', 'Unkown', 'Unkown', 'Analytics', 'E-Commerce', 'Analytics', 'Mobile', 'Retail', 'Unkown', 'Analytics', 'Entertainment', 'Unkown', 'Music', 'Analytics', 'E-Commerce', 'Mobile', 'Finance', 'Unkown', 'Analytics', 'Enterprise Software', 'Analytics', 'Marketing', 'Network / Hosting / Infrastructure', 'Analytics', 'Unkown', 'Unkown', 'E-Commerce', 'Publishing', 'Marketing', 'Unkown', 'Unkown', 'Analytics', 'Marketing', 'E-Commerce', 'Market Research', 'Analytics', 'Deals', 'Finance', 'Marketing', 'Unkown', 'Cloud Computing', 'Energy', 'Network / Hosting / Infrastructure', 'Enterprise Software', 'Security', 'Mobile', 'Analytics', 'Education', 'Career / Job Search', 'Advertising', 'Analytics', 'Analytics', 'Analytics', 'Analytics', 'Marketing', 'Analytics', 'Analytics', 'Retail', 'Mobile', 'Enterprise Software', 'Market Research', 'Cloud Computing', 'E-Commerce', 'Analytics', 'Analytics', 'Analytics', 'Retail', 'Media', 'Analytics', 'Entertainment', 'Analytics', 'E-Commerce', 'Analytics', 'Analytics', 'Marketing', 'Analytics', 'Analytics', 'E-Commerce', 'Search', 'Social Networking', 'Telecommunications', 'Publishing', 'Unkown', 'Advertising', 'Unkown', 'Network / Hosting / Infrastructure', 'Publishing', 'Unkown', 'Mobile', 'Classifieds', 'Network / Hosting / Infrastructure', 'Media', 'Advertising', 'E-Commerce', 'Unkown', 'Unkown', 'Unkown', 'Software Development', 'Search', 'Healthcare', 'Unkown', 'Mobile', 'Telecommunications', 'Entertainment', 'E-Commerce', 'Cloud Computing', 'E-Commerce', 'Classifieds', 'Gaming', 'Entertainment', 'Marketing', 'Unkown', 'Unkown', 'Food & Beverages', 'Unkown', 'Unkown', 'Marketing', 'Mobile', 'E-Commerce', 'Mobile', 'Cloud Computing', 'Enterprise Software', 'Software Development', 'Unkown', 'Unkown', 'Music', 'Media', 'Software Development', 'Analytics', 'Advertising', 'E-Commerce', 'Analytics', 'Advertising', 'Enterprise Software', 'Cloud Computing', 'Analytics', 'Travel', 'Deals', 'Analytics', 'Hospitality', 'Media', 'E-Commerce', 'Analytics', 'Entertainment', 'E-Commerce', 'Analytics', 'Network / Hosting / Infrastructure', 'Analytics', 'Advertising', 'Marketing', 'Entertainment', 'Media', 'Mobile', 'Analytics', 'Advertising', 'Mobile', 'Analytics', 'Mobile', 'Media', 'Enterprise Software', 'Marketing', 'Media', 'Analytics', 'Advertising', 'E-Commerce', 'Analytics', 'Marketing', 'Analytics', 'Search', 'Hospitality', 'Advertising', 'Social Networking', 'Analytics', 'Gaming', 'Cloud Computing', 'Social Networking', 'Analytics', 'Analytics', 'Mobile', 'Enterprise Software', 'Software Development', 'Analytics', 'Analytics', 'Government', 'Analytics', 'Analytics', 'Music', 'Search', 'Analytics', 'Analytics', 'Analytics', 'Entertainment', 'Analytics', 'Advertising', 'Analytics', 'Analytics', 'Education', 'Analytics', 'Finance', 'Social Networking', 'Analytics', 'Marketing', 'Analytics', 'Marketing', 'Security', 'Analytics', 'Analytics', 'Marketing', 'Advertising', 'E-Commerce', 'Analytics', 'Marketing', 'Analytics', 'Analytics', 'Marketing', 'Analytics', 'Analytics', 'Analytics', 'Enterprise Software', 'Advertising', 'Entertainment', 'Media', 'Analytics', 'Analytics', 'Email', 'Software Development', 'Analytics', 'Analytics', 'Software Development', 'Analytics', 'Analytics', 'Mobile', 'Analytics', 'Social Networking', 'Network / Hosting / Infrastructure', 'Analytics', 'Marketing', 'E-Commerce', 'Analytics', 'Analytics', 'Software Development', 'Analytics', 'Telecommunications', 'E-Commerce', 'Food & Beverages', 'Mobile', 'Unkown', 'Unkown', 'Human Resources (HR)', 'Career / Job Search', 'Unkown', 'E-Commerce', 'Retail', 'Analytics', 'Analytics', 'Analytics', 'Analytics', 'Mobile', 'Analytics', 'Analytics', 'Enterprise Software', 'Analytics', 'Advertising', 'Human Resources (HR)', 'Enterprise Software', 'Career / Job Search', 'Social Networking', 'Analytics', 'Analytics', 'Advertising', 'Retail', 'Analytics', 'Analytics', 'Search', 'Analytics', 'Analytics', 'Hospitality', 'Mobile', 'Enterprise Software', 'E-Commerce', 'Analytics', 'Marketing', 'E-Commerce', 'Analytics', 'Mobile', 'Advertising', 'E-Commerce', 'Analytics', 'E-Commerce', 'Analytics', 'Social Networking', 'Marketing', 'Network / Hosting / Infrastructure', 'Publishing', 'Analytics', 'Marketing', 'Analytics', 'Social Networking', 'Network / Hosting / Infrastructure', 'Cloud Computing', 'Analytics', 'Media', 'Analytics', 'Unkown', 'Unkown', 'Energy', 'Unkown', 'Cloud Computing', 'Media', 'Entertainment', 'Media', 'Unkown', 'Unkown', 'CleanTech', 'Energy', 'Healthcare', 'Analytics', 'Mobile', 'Food & Beverages', 'Healthcare', 'Market Research', 'Mobile', 'Human Resources (HR)', 'Analytics', 'Marketing', 'Career / Job Search', 'Unkown', 'Healthcare', 'Unkown', 'Software Development', 'Analytics', 'Media', 'Analytics', 'Unkown', 'energy', 'analytics', 'Education', 'Search', 'Unkown', 'Advertising', 'Advertising', 'Mobile', 'Marketing', 'Email', 'Advertising', 'Marketing', 'Search', 'Advertising', 'Marketing', 'Unkown', 'Unkown', 'Advertising', 'Marketing', 'Unkown', 'Unkown', 'Unkown', 'Unkown', 'Unkown', 'Unkown', 'Music', 'Mobile', 'Social Networking', 'Music', 'Entertainment', 'Media', 'Unkown', 'Unkown', 'Unkown', 'Network / Hosting / Infrastructure', 'Telecommunications', 'Enterprise Software', 'Unkown', 'Cloud Computing', 'Email', 'Marketing', 'Cloud Computing', 'E-Commerce', 'Mobile', 'Unkown', 'Network / Hosting / Infrastructure', 'Marketing', 'Unkown', 'Unkown', 'Advertising', 'Analytics', 'E-Commerce', 'Food & Beverages', 'E-Commerce', 'Unkown', 'Unkown', 'Social Networking', 'Unkown', 'Social Networking', 'Telecommunications', 'Unkown', 'Music', 'E-Commerce', 'Search', 'Unkown', 'Gaming', 'Entertainment', 'Mobile', 'Unkown', 'Unkown', 'Unkown', 'E-Commerce', 'Email', 'Software Development', 'Unkown', 'Unkown', 'Unkown', 'Unkown', 'Advertising', 'Unkown', 'Energy', 'Unkown', 'Unkown', 'Gaming', 'Unkown', 'Unkown', 'Cloud Computing', 'Unkown', 'Transportation', 'Human Resources (HR)', 'Career / Job Search', 'E-Commerce', 'Network / Hosting / Infrastructure', 'Unkown', 'Unkown', 'Unkown', 'Music', 'Entertainment', 'Media', 'Unkown', 'E-Commerce', 'Unkown', 'Analytics', 'E-Commerce', 'Analytics', 'Marketing', 'Analytics', 'Healthcare']\n"
          ],
          "name": "stdout"
        }
      ]
    },
    {
      "cell_type": "code",
      "metadata": {
        "id": "zhwgC74jpsd7",
        "outputId": "ea3a1dba-f163-42d1-c5f7-198ac0e5c7f8",
        "colab": {
          "base_uri": "https://localhost:8080/",
          "height": 55
        }
      },
      "source": [
        "from collections import Counter\n",
        "\n",
        "print(Counter(industrylist))"
      ],
      "execution_count": 22,
      "outputs": [
        {
          "output_type": "stream",
          "text": [
            "Counter({'Analytics': 197, 'Unkown': 124, 'Marketing': 66, 'Mobile': 54, 'E-Commerce': 54, 'Advertising': 37, 'Enterprise Software': 30, 'Media': 28, 'Cloud Computing': 19, 'Network / Hosting / Infrastructure': 19, 'Software Development': 18, 'Social Networking': 18, 'Retail': 15, 'Entertainment': 15, 'Healthcare': 12, 'Energy': 11, 'Search': 11, 'Market Research': 8, 'Food & Beverages': 8, 'Finance': 8, 'Music': 8, 'Publishing': 8, 'Gaming': 7, 'Email': 7, 'Career / Job Search': 7, 'Security': 6, 'Human Resources (HR)': 6, 'Education': 6, 'Telecommunications': 6, 'CleanTech': 5, 'Hospitality': 4, 'Deals': 3, 'Real Estate': 3, 'Crowdfunding': 2, 'Transportation': 2, 'Classifieds': 2, 'Pharmaceuticals': 1, 'Insurance': 1, 'Space Travel': 1, 'Travel': 1, 'Government': 1, 'energy': 1, 'analytics': 1})\n"
          ],
          "name": "stdout"
        }
      ]
    },
    {
      "cell_type": "markdown",
      "metadata": {
        "id": "VEFJE5IeptmN"
      },
      "source": [
        "## Now that we know all the unique fields. We'll make columns for each industry that appears seven or more times in the dataset. We'll make a column for each one of them."
      ]
    },
    {
      "cell_type": "code",
      "metadata": {
        "id": "b-zVABykpuc-"
      },
      "source": [
        "df['Market Research'] = df['Industry of company'].str.contains('Market Research')\n",
        "df['Marketing'] = df['Industry of company'].str.contains('Marketing')\n",
        "df['Analytics'] = df['Industry of company'].str.contains('Analytics')\n",
        "df['Software Development'] = df['Industry of company'].str.contains('Software Development')\n",
        "df['Mobile'] = df['Industry of company'].str.contains('Mobile')\n",
        "df['Enterprise Software'] = df['Industry of company'].str.contains('Enterprise Software')\n",
        "df['Media'] = df['Industry of company'].str.contains('Media')\n",
        "df['Cloud Computing'] = df['Industry of company'].str.contains('Cloud Computing')\n",
        "df['Network / Hosting / Infrastructure'] = df['Industry of company'].str.contains('Network / Hosting / Infrastructure')\n",
        "df['Social Networking'] = df['Industry of company'].str.contains('Social Networking')\n",
        "df['Retail'] = df['Industry of company'].str.contains('Retail')\n",
        "df['Entertainment'] = df['Industry of company'].str.contains('Entertainment')\n",
        "df['Healthcare'] = df['Industry of company'].str.contains('Healthcare')\n",
        "df['Energy'] = df['Industry of company'].str.contains('Energy')\n",
        "df['Search'] = df['Industry of company'].str.contains('Search')\n",
        "df['Market Research'] = df['Industry of company'].str.contains('Market Research')\n",
        "df['Food & Beverages'] = df['Industry of company'].str.contains('Food & Beverages')\n",
        "df['Music'] = df['Industry of company'].str.contains('Music')\n",
        "df['Publishing'] = df['Industry of company'].str.contains('Publishing')\n",
        "df['Gaming'] = df['Industry of company'].str.contains('Gaming')\n",
        "df['Email'] = df['Industry of company'].str.contains('Email')\n",
        "df['Career / Job Search'] = df['Industry of company'].str.contains('Career / Job Search')"
      ],
      "execution_count": 23,
      "outputs": []
    },
    {
      "cell_type": "code",
      "metadata": {
        "id": "LrbIwOqGpvxx",
        "outputId": "981e023c-c9ac-4800-8fdd-bd841c9afa7d",
        "colab": {
          "base_uri": "https://localhost:8080/",
          "height": 632
        }
      },
      "source": [
        "# Take a look at the dataset now.\n",
        "df.head()"
      ],
      "execution_count": 24,
      "outputs": [
        {
          "output_type": "execute_result",
          "data": {
            "text/html": [
              "<div>\n",
              "<style scoped>\n",
              "    .dataframe tbody tr th:only-of-type {\n",
              "        vertical-align: middle;\n",
              "    }\n",
              "\n",
              "    .dataframe tbody tr th {\n",
              "        vertical-align: top;\n",
              "    }\n",
              "\n",
              "    .dataframe thead th {\n",
              "        text-align: right;\n",
              "    }\n",
              "</style>\n",
              "<table border=\"1\" class=\"dataframe\">\n",
              "  <thead>\n",
              "    <tr style=\"text-align: right;\">\n",
              "      <th></th>\n",
              "      <th>Dependent-Company Status</th>\n",
              "      <th>year of founding</th>\n",
              "      <th>Age of company in years</th>\n",
              "      <th>Internet Activity Score</th>\n",
              "      <th>Industry of company</th>\n",
              "      <th>Focus functions of company</th>\n",
              "      <th>Investors</th>\n",
              "      <th>Employee Count</th>\n",
              "      <th>Employees count MoM change</th>\n",
              "      <th>Has the team size grown</th>\n",
              "      <th>Est. Founding Date</th>\n",
              "      <th>Last Funding Date</th>\n",
              "      <th>Last Funding Amount</th>\n",
              "      <th>Country of company</th>\n",
              "      <th>Continent of company</th>\n",
              "      <th>Number of Investors in Seed</th>\n",
              "      <th>Number of Investors in Angel and or VC</th>\n",
              "      <th>Number of Co-founders</th>\n",
              "      <th>Number of of advisors</th>\n",
              "      <th>Team size Senior leadership</th>\n",
              "      <th>Team size all employees</th>\n",
              "      <th>Presence of a top angel or venture fund in previous round of investment</th>\n",
              "      <th>Number of of repeat investors</th>\n",
              "      <th>Number of  Sales Support material</th>\n",
              "      <th>Worked in top companies</th>\n",
              "      <th>Average size of companies worked for in the past</th>\n",
              "      <th>Have been part of startups in the past?</th>\n",
              "      <th>Have been part of successful startups in the past?</th>\n",
              "      <th>Was he or she partner in Big 5 consulting?</th>\n",
              "      <th>Consulting experience?</th>\n",
              "      <th>Product or service company?</th>\n",
              "      <th>Catering to product/service across verticals</th>\n",
              "      <th>Focus on private or public data?</th>\n",
              "      <th>Focus on consumer data?</th>\n",
              "      <th>Focus on structured or unstructured data</th>\n",
              "      <th>Subscription based business</th>\n",
              "      <th>Cloud or platform based serive/product?</th>\n",
              "      <th>Local or global player</th>\n",
              "      <th>Linear or Non-linear business model</th>\n",
              "      <th>Capital intensive business e.g. e-commerce, Engineering products and operations can also cause a business to be capital intensive</th>\n",
              "      <th>...</th>\n",
              "      <th>Company awards</th>\n",
              "      <th>Controversial history of founder or co founder</th>\n",
              "      <th>Legal risk and intellectual property</th>\n",
              "      <th>Client Reputation</th>\n",
              "      <th>google page rank of company website</th>\n",
              "      <th>Technical proficiencies to analyse and interpret unstructured data</th>\n",
              "      <th>Solutions offered</th>\n",
              "      <th>Invested through global incubation competitions?</th>\n",
              "      <th>Industry trend in investing</th>\n",
              "      <th>Disruptiveness of technology</th>\n",
              "      <th>Number of Direct competitors</th>\n",
              "      <th>Employees per year of company existence</th>\n",
              "      <th>Last round of funding received (in milionUSD)</th>\n",
              "      <th>Survival through recession, based on existence of the company through recession times</th>\n",
              "      <th>Time to 1st investment (in months)</th>\n",
              "      <th>Avg time to investment - average across all rounds, measured from previous investment</th>\n",
              "      <th>Gartner hype cycle stage</th>\n",
              "      <th>Time to maturity of technology (in years)</th>\n",
              "      <th>Renown score</th>\n",
              "      <th>Market Research</th>\n",
              "      <th>Marketing</th>\n",
              "      <th>Analytics</th>\n",
              "      <th>Software Development</th>\n",
              "      <th>Mobile</th>\n",
              "      <th>Enterprise Software</th>\n",
              "      <th>Media</th>\n",
              "      <th>Cloud Computing</th>\n",
              "      <th>Network / Hosting / Infrastructure</th>\n",
              "      <th>Social Networking</th>\n",
              "      <th>Retail</th>\n",
              "      <th>Entertainment</th>\n",
              "      <th>Healthcare</th>\n",
              "      <th>Energy</th>\n",
              "      <th>Search</th>\n",
              "      <th>Food &amp; Beverages</th>\n",
              "      <th>Music</th>\n",
              "      <th>Publishing</th>\n",
              "      <th>Gaming</th>\n",
              "      <th>Email</th>\n",
              "      <th>Career / Job Search</th>\n",
              "    </tr>\n",
              "  </thead>\n",
              "  <tbody>\n",
              "    <tr>\n",
              "      <th>0</th>\n",
              "      <td>Success</td>\n",
              "      <td>NaN</td>\n",
              "      <td>NaN</td>\n",
              "      <td>-1.0</td>\n",
              "      <td>NaN</td>\n",
              "      <td>operation</td>\n",
              "      <td>KPCB Holdings|Draper Fisher Jurvetson (DFJ)|Kl...</td>\n",
              "      <td>3.0</td>\n",
              "      <td>0.0</td>\n",
              "      <td>No</td>\n",
              "      <td>NaN</td>\n",
              "      <td>5/26/2013</td>\n",
              "      <td>450000.0</td>\n",
              "      <td>United States</td>\n",
              "      <td>North America</td>\n",
              "      <td>2</td>\n",
              "      <td>0</td>\n",
              "      <td>1</td>\n",
              "      <td>2</td>\n",
              "      <td>2</td>\n",
              "      <td>15</td>\n",
              "      <td>Yes</td>\n",
              "      <td>4</td>\n",
              "      <td>Nothing</td>\n",
              "      <td>No</td>\n",
              "      <td>Small</td>\n",
              "      <td>No</td>\n",
              "      <td>No</td>\n",
              "      <td>No</td>\n",
              "      <td>No</td>\n",
              "      <td>Service</td>\n",
              "      <td>No</td>\n",
              "      <td>Private</td>\n",
              "      <td>No</td>\n",
              "      <td>Both</td>\n",
              "      <td>Yes</td>\n",
              "      <td>Platform</td>\n",
              "      <td>Global</td>\n",
              "      <td>Linear</td>\n",
              "      <td>Yes</td>\n",
              "      <td>...</td>\n",
              "      <td>No</td>\n",
              "      <td>No</td>\n",
              "      <td>No</td>\n",
              "      <td>NaN</td>\n",
              "      <td>9626884</td>\n",
              "      <td>No</td>\n",
              "      <td>Yes</td>\n",
              "      <td>No</td>\n",
              "      <td>2.0</td>\n",
              "      <td>Low</td>\n",
              "      <td>0</td>\n",
              "      <td>1.5</td>\n",
              "      <td>0.45</td>\n",
              "      <td>NaN</td>\n",
              "      <td>NaN</td>\n",
              "      <td>11.56</td>\n",
              "      <td>NaN</td>\n",
              "      <td>NaN</td>\n",
              "      <td>0</td>\n",
              "      <td>NaN</td>\n",
              "      <td>NaN</td>\n",
              "      <td>NaN</td>\n",
              "      <td>NaN</td>\n",
              "      <td>NaN</td>\n",
              "      <td>NaN</td>\n",
              "      <td>NaN</td>\n",
              "      <td>NaN</td>\n",
              "      <td>NaN</td>\n",
              "      <td>NaN</td>\n",
              "      <td>NaN</td>\n",
              "      <td>NaN</td>\n",
              "      <td>NaN</td>\n",
              "      <td>NaN</td>\n",
              "      <td>NaN</td>\n",
              "      <td>NaN</td>\n",
              "      <td>NaN</td>\n",
              "      <td>NaN</td>\n",
              "      <td>NaN</td>\n",
              "      <td>NaN</td>\n",
              "      <td>NaN</td>\n",
              "    </tr>\n",
              "    <tr>\n",
              "      <th>1</th>\n",
              "      <td>Success</td>\n",
              "      <td>2011</td>\n",
              "      <td>3</td>\n",
              "      <td>125.0</td>\n",
              "      <td>Market Research|Marketing|Crowdfunding</td>\n",
              "      <td>Marketing, sales</td>\n",
              "      <td>NaN</td>\n",
              "      <td>NaN</td>\n",
              "      <td>NaN</td>\n",
              "      <td>No</td>\n",
              "      <td>NaN</td>\n",
              "      <td>NaN</td>\n",
              "      <td>NaN</td>\n",
              "      <td>United States</td>\n",
              "      <td>North America</td>\n",
              "      <td>5</td>\n",
              "      <td>0</td>\n",
              "      <td>2</td>\n",
              "      <td>0</td>\n",
              "      <td>4</td>\n",
              "      <td>20</td>\n",
              "      <td>No</td>\n",
              "      <td>0</td>\n",
              "      <td>medium</td>\n",
              "      <td>Yes</td>\n",
              "      <td>Large</td>\n",
              "      <td>Yes</td>\n",
              "      <td>Yes</td>\n",
              "      <td>No</td>\n",
              "      <td>No</td>\n",
              "      <td>Product</td>\n",
              "      <td>No</td>\n",
              "      <td>Public</td>\n",
              "      <td>Yes</td>\n",
              "      <td>Both</td>\n",
              "      <td>No</td>\n",
              "      <td>Platform</td>\n",
              "      <td>Local</td>\n",
              "      <td>Non-Linear</td>\n",
              "      <td>No</td>\n",
              "      <td>...</td>\n",
              "      <td>No</td>\n",
              "      <td>No</td>\n",
              "      <td>Yes</td>\n",
              "      <td>Medium</td>\n",
              "      <td>1067034</td>\n",
              "      <td>Yes</td>\n",
              "      <td>Yes</td>\n",
              "      <td>No</td>\n",
              "      <td>3.0</td>\n",
              "      <td>Medium</td>\n",
              "      <td>0</td>\n",
              "      <td>6.666666667</td>\n",
              "      <td>5</td>\n",
              "      <td>Not Applicable</td>\n",
              "      <td>10</td>\n",
              "      <td>9</td>\n",
              "      <td>Trough</td>\n",
              "      <td>2 to 5</td>\n",
              "      <td>8</td>\n",
              "      <td>True</td>\n",
              "      <td>True</td>\n",
              "      <td>False</td>\n",
              "      <td>False</td>\n",
              "      <td>False</td>\n",
              "      <td>False</td>\n",
              "      <td>False</td>\n",
              "      <td>False</td>\n",
              "      <td>False</td>\n",
              "      <td>False</td>\n",
              "      <td>False</td>\n",
              "      <td>False</td>\n",
              "      <td>False</td>\n",
              "      <td>False</td>\n",
              "      <td>False</td>\n",
              "      <td>False</td>\n",
              "      <td>False</td>\n",
              "      <td>False</td>\n",
              "      <td>False</td>\n",
              "      <td>False</td>\n",
              "      <td>False</td>\n",
              "    </tr>\n",
              "    <tr>\n",
              "      <th>2</th>\n",
              "      <td>Success</td>\n",
              "      <td>2011</td>\n",
              "      <td>3</td>\n",
              "      <td>455.0</td>\n",
              "      <td>Analytics|Cloud Computing|Software Development</td>\n",
              "      <td>operations</td>\n",
              "      <td>TechStars|Streamlined Ventures|Amplify Partner...</td>\n",
              "      <td>14.0</td>\n",
              "      <td>0.0</td>\n",
              "      <td>No</td>\n",
              "      <td>12/1/2011</td>\n",
              "      <td>10/23/2013</td>\n",
              "      <td>2350000.0</td>\n",
              "      <td>United States</td>\n",
              "      <td>North America</td>\n",
              "      <td>15</td>\n",
              "      <td>0</td>\n",
              "      <td>3</td>\n",
              "      <td>0</td>\n",
              "      <td>7</td>\n",
              "      <td>10</td>\n",
              "      <td>No</td>\n",
              "      <td>0</td>\n",
              "      <td>low</td>\n",
              "      <td>Yes</td>\n",
              "      <td>Medium</td>\n",
              "      <td>No</td>\n",
              "      <td>No</td>\n",
              "      <td>No</td>\n",
              "      <td>No</td>\n",
              "      <td>Both</td>\n",
              "      <td>Yes</td>\n",
              "      <td>Private</td>\n",
              "      <td>Yes</td>\n",
              "      <td>Both</td>\n",
              "      <td>Yes</td>\n",
              "      <td>cloud</td>\n",
              "      <td>Local</td>\n",
              "      <td>Non-Linear</td>\n",
              "      <td>No</td>\n",
              "      <td>...</td>\n",
              "      <td>No</td>\n",
              "      <td>No</td>\n",
              "      <td>No</td>\n",
              "      <td>Low</td>\n",
              "      <td>71391</td>\n",
              "      <td>Yes</td>\n",
              "      <td>Yes</td>\n",
              "      <td>Yes</td>\n",
              "      <td>3.0</td>\n",
              "      <td>Medium</td>\n",
              "      <td>0</td>\n",
              "      <td>3.333333333</td>\n",
              "      <td>2.35</td>\n",
              "      <td>Not Applicable</td>\n",
              "      <td>2</td>\n",
              "      <td>7.344444444</td>\n",
              "      <td>Trough</td>\n",
              "      <td>2 to 5</td>\n",
              "      <td>9</td>\n",
              "      <td>False</td>\n",
              "      <td>False</td>\n",
              "      <td>True</td>\n",
              "      <td>True</td>\n",
              "      <td>False</td>\n",
              "      <td>False</td>\n",
              "      <td>False</td>\n",
              "      <td>True</td>\n",
              "      <td>False</td>\n",
              "      <td>False</td>\n",
              "      <td>False</td>\n",
              "      <td>False</td>\n",
              "      <td>False</td>\n",
              "      <td>False</td>\n",
              "      <td>False</td>\n",
              "      <td>False</td>\n",
              "      <td>False</td>\n",
              "      <td>False</td>\n",
              "      <td>False</td>\n",
              "      <td>False</td>\n",
              "      <td>False</td>\n",
              "    </tr>\n",
              "    <tr>\n",
              "      <th>3</th>\n",
              "      <td>Success</td>\n",
              "      <td>2009</td>\n",
              "      <td>5</td>\n",
              "      <td>-99.0</td>\n",
              "      <td>Mobile|Analytics</td>\n",
              "      <td>Marketing &amp; Sales</td>\n",
              "      <td>Michael Birch|Max Levchin|Sequoia Capital|Keit...</td>\n",
              "      <td>45.0</td>\n",
              "      <td>10.0</td>\n",
              "      <td>No</td>\n",
              "      <td>6/20/2009</td>\n",
              "      <td>5/10/2012</td>\n",
              "      <td>10250000.0</td>\n",
              "      <td>United States</td>\n",
              "      <td>North America</td>\n",
              "      <td>6</td>\n",
              "      <td>0</td>\n",
              "      <td>2</td>\n",
              "      <td>0</td>\n",
              "      <td>4</td>\n",
              "      <td>50</td>\n",
              "      <td>Yes</td>\n",
              "      <td>0</td>\n",
              "      <td>low</td>\n",
              "      <td>No</td>\n",
              "      <td>Large</td>\n",
              "      <td>Yes</td>\n",
              "      <td>Yes</td>\n",
              "      <td>No</td>\n",
              "      <td>No</td>\n",
              "      <td>Product</td>\n",
              "      <td>Yes</td>\n",
              "      <td>Public</td>\n",
              "      <td>Yes</td>\n",
              "      <td>Structured</td>\n",
              "      <td>Yes</td>\n",
              "      <td>Platform</td>\n",
              "      <td>Local</td>\n",
              "      <td>Non-Linear</td>\n",
              "      <td>No</td>\n",
              "      <td>...</td>\n",
              "      <td>No</td>\n",
              "      <td>No</td>\n",
              "      <td>No</td>\n",
              "      <td>Low</td>\n",
              "      <td>11847</td>\n",
              "      <td>No</td>\n",
              "      <td>Yes</td>\n",
              "      <td>Yes</td>\n",
              "      <td>4.0</td>\n",
              "      <td>Medium</td>\n",
              "      <td>2</td>\n",
              "      <td>10</td>\n",
              "      <td>10.25</td>\n",
              "      <td>Not Applicable</td>\n",
              "      <td>1</td>\n",
              "      <td>8.7</td>\n",
              "      <td>Trough</td>\n",
              "      <td>2 to 5</td>\n",
              "      <td>5</td>\n",
              "      <td>False</td>\n",
              "      <td>False</td>\n",
              "      <td>True</td>\n",
              "      <td>False</td>\n",
              "      <td>True</td>\n",
              "      <td>False</td>\n",
              "      <td>False</td>\n",
              "      <td>False</td>\n",
              "      <td>False</td>\n",
              "      <td>False</td>\n",
              "      <td>False</td>\n",
              "      <td>False</td>\n",
              "      <td>False</td>\n",
              "      <td>False</td>\n",
              "      <td>False</td>\n",
              "      <td>False</td>\n",
              "      <td>False</td>\n",
              "      <td>False</td>\n",
              "      <td>False</td>\n",
              "      <td>False</td>\n",
              "      <td>False</td>\n",
              "    </tr>\n",
              "    <tr>\n",
              "      <th>4</th>\n",
              "      <td>Success</td>\n",
              "      <td>2010</td>\n",
              "      <td>4</td>\n",
              "      <td>496.0</td>\n",
              "      <td>Analytics|Marketing|Enterprise Software</td>\n",
              "      <td>Marketing &amp; Sales</td>\n",
              "      <td>DFJ Frontier|Draper Nexus Ventures|Gil Elbaz|A...</td>\n",
              "      <td>39.0</td>\n",
              "      <td>3.0</td>\n",
              "      <td>No</td>\n",
              "      <td>4/1/2010</td>\n",
              "      <td>12/11/2013</td>\n",
              "      <td>5500000.0</td>\n",
              "      <td>United States</td>\n",
              "      <td>North America</td>\n",
              "      <td>7</td>\n",
              "      <td>0</td>\n",
              "      <td>1</td>\n",
              "      <td>1</td>\n",
              "      <td>8</td>\n",
              "      <td>40</td>\n",
              "      <td>No</td>\n",
              "      <td>0</td>\n",
              "      <td>high</td>\n",
              "      <td>No</td>\n",
              "      <td>Small</td>\n",
              "      <td>No</td>\n",
              "      <td>No</td>\n",
              "      <td>No</td>\n",
              "      <td>No</td>\n",
              "      <td>Product</td>\n",
              "      <td>Yes</td>\n",
              "      <td>Public</td>\n",
              "      <td>Yes</td>\n",
              "      <td>Both</td>\n",
              "      <td>No</td>\n",
              "      <td>Platform</td>\n",
              "      <td>Local</td>\n",
              "      <td>Non-Linear</td>\n",
              "      <td>Yes</td>\n",
              "      <td>...</td>\n",
              "      <td>No</td>\n",
              "      <td>No</td>\n",
              "      <td>No</td>\n",
              "      <td>Low</td>\n",
              "      <td>201814</td>\n",
              "      <td>Yes</td>\n",
              "      <td>Yes</td>\n",
              "      <td>No</td>\n",
              "      <td>3.0</td>\n",
              "      <td>Medium</td>\n",
              "      <td>0</td>\n",
              "      <td>10</td>\n",
              "      <td>5.5</td>\n",
              "      <td>Not Applicable</td>\n",
              "      <td>13</td>\n",
              "      <td>9.822222222</td>\n",
              "      <td>NaN</td>\n",
              "      <td>NaN</td>\n",
              "      <td>6</td>\n",
              "      <td>False</td>\n",
              "      <td>True</td>\n",
              "      <td>True</td>\n",
              "      <td>False</td>\n",
              "      <td>False</td>\n",
              "      <td>True</td>\n",
              "      <td>False</td>\n",
              "      <td>False</td>\n",
              "      <td>False</td>\n",
              "      <td>False</td>\n",
              "      <td>False</td>\n",
              "      <td>False</td>\n",
              "      <td>False</td>\n",
              "      <td>False</td>\n",
              "      <td>False</td>\n",
              "      <td>False</td>\n",
              "      <td>False</td>\n",
              "      <td>False</td>\n",
              "      <td>False</td>\n",
              "      <td>False</td>\n",
              "      <td>False</td>\n",
              "    </tr>\n",
              "  </tbody>\n",
              "</table>\n",
              "<p>5 rows × 121 columns</p>\n",
              "</div>"
            ],
            "text/plain": [
              "  Dependent-Company Status year of founding  ...  Email  Career / Job Search\n",
              "0                  Success              NaN  ...    NaN                  NaN\n",
              "1                  Success             2011  ...  False                False\n",
              "2                  Success             2011  ...  False                False\n",
              "3                  Success             2009  ...  False                False\n",
              "4                  Success             2010  ...  False                False\n",
              "\n",
              "[5 rows x 121 columns]"
            ]
          },
          "metadata": {
            "tags": []
          },
          "execution_count": 24
        }
      ]
    },
    {
      "cell_type": "markdown",
      "metadata": {
        "id": "dZjZrVmFq75e"
      },
      "source": [
        "We'll now continue our EDA process to maximize the usabulity of this dataset for a ML problem"
      ]
    },
    {
      "cell_type": "code",
      "metadata": {
        "id": "vc1Kpvn-qN54"
      },
      "source": [
        "# We'll also encode our true and false observations for the industries\n",
        "df = df.replace({True: 1, False: 0})"
      ],
      "execution_count": 25,
      "outputs": []
    },
    {
      "cell_type": "code",
      "metadata": {
        "id": "udwuMsCgrAMA"
      },
      "source": [
        "# Wrangle our data\n",
        "def wrangle_t(X):\n",
        "  # Make a copy\n",
        "  X = X.copy()\n",
        "  cols = ['Industry of company', 'Age of company in years', 'Investors', 'Last Funding Date', 'Continent of company', 'Team size all employees', 'Years of education']\n",
        "  X.drop(columns=cols, inplace=True)\n",
        "  # X = X[X['amount_tsh'].between(X['amount_tsh'].quantile(0.02), X['amount_tsh'].quantile(0.98))]\n",
        "\n",
        "  return X# Make our dataframe into the wrangled form"
      ],
      "execution_count": 26,
      "outputs": []
    },
    {
      "cell_type": "code",
      "metadata": {
        "id": "91rQizg7rCF4"
      },
      "source": [
        "# Make our dataframe into the wrangled form\n",
        "df = wrangle_t(df)"
      ],
      "execution_count": 27,
      "outputs": []
    },
    {
      "cell_type": "code",
      "metadata": {
        "id": "CuxOqEPsrEOJ",
        "outputId": "faa00fe8-0668-4a57-8ec1-bf3335ddf121",
        "colab": {
          "base_uri": "https://localhost:8080/",
          "height": 547
        }
      },
      "source": [
        "# Look at the dataframe now.\n",
        "df.head()"
      ],
      "execution_count": 28,
      "outputs": [
        {
          "output_type": "execute_result",
          "data": {
            "text/html": [
              "<div>\n",
              "<style scoped>\n",
              "    .dataframe tbody tr th:only-of-type {\n",
              "        vertical-align: middle;\n",
              "    }\n",
              "\n",
              "    .dataframe tbody tr th {\n",
              "        vertical-align: top;\n",
              "    }\n",
              "\n",
              "    .dataframe thead th {\n",
              "        text-align: right;\n",
              "    }\n",
              "</style>\n",
              "<table border=\"1\" class=\"dataframe\">\n",
              "  <thead>\n",
              "    <tr style=\"text-align: right;\">\n",
              "      <th></th>\n",
              "      <th>Dependent-Company Status</th>\n",
              "      <th>year of founding</th>\n",
              "      <th>Internet Activity Score</th>\n",
              "      <th>Focus functions of company</th>\n",
              "      <th>Employee Count</th>\n",
              "      <th>Employees count MoM change</th>\n",
              "      <th>Has the team size grown</th>\n",
              "      <th>Est. Founding Date</th>\n",
              "      <th>Last Funding Amount</th>\n",
              "      <th>Country of company</th>\n",
              "      <th>Number of Investors in Seed</th>\n",
              "      <th>Number of Investors in Angel and or VC</th>\n",
              "      <th>Number of Co-founders</th>\n",
              "      <th>Number of of advisors</th>\n",
              "      <th>Team size Senior leadership</th>\n",
              "      <th>Presence of a top angel or venture fund in previous round of investment</th>\n",
              "      <th>Number of of repeat investors</th>\n",
              "      <th>Number of  Sales Support material</th>\n",
              "      <th>Worked in top companies</th>\n",
              "      <th>Average size of companies worked for in the past</th>\n",
              "      <th>Have been part of startups in the past?</th>\n",
              "      <th>Have been part of successful startups in the past?</th>\n",
              "      <th>Was he or she partner in Big 5 consulting?</th>\n",
              "      <th>Consulting experience?</th>\n",
              "      <th>Product or service company?</th>\n",
              "      <th>Catering to product/service across verticals</th>\n",
              "      <th>Focus on private or public data?</th>\n",
              "      <th>Focus on consumer data?</th>\n",
              "      <th>Focus on structured or unstructured data</th>\n",
              "      <th>Subscription based business</th>\n",
              "      <th>Cloud or platform based serive/product?</th>\n",
              "      <th>Local or global player</th>\n",
              "      <th>Linear or Non-linear business model</th>\n",
              "      <th>Capital intensive business e.g. e-commerce, Engineering products and operations can also cause a business to be capital intensive</th>\n",
              "      <th>Number of  of Partners of company</th>\n",
              "      <th>Crowdsourcing based business</th>\n",
              "      <th>Crowdfunding based business</th>\n",
              "      <th>Machine Learning based business</th>\n",
              "      <th>Predictive Analytics business</th>\n",
              "      <th>Speech analytics business</th>\n",
              "      <th>...</th>\n",
              "      <th>Company awards</th>\n",
              "      <th>Controversial history of founder or co founder</th>\n",
              "      <th>Legal risk and intellectual property</th>\n",
              "      <th>Client Reputation</th>\n",
              "      <th>google page rank of company website</th>\n",
              "      <th>Technical proficiencies to analyse and interpret unstructured data</th>\n",
              "      <th>Solutions offered</th>\n",
              "      <th>Invested through global incubation competitions?</th>\n",
              "      <th>Industry trend in investing</th>\n",
              "      <th>Disruptiveness of technology</th>\n",
              "      <th>Number of Direct competitors</th>\n",
              "      <th>Employees per year of company existence</th>\n",
              "      <th>Last round of funding received (in milionUSD)</th>\n",
              "      <th>Survival through recession, based on existence of the company through recession times</th>\n",
              "      <th>Time to 1st investment (in months)</th>\n",
              "      <th>Avg time to investment - average across all rounds, measured from previous investment</th>\n",
              "      <th>Gartner hype cycle stage</th>\n",
              "      <th>Time to maturity of technology (in years)</th>\n",
              "      <th>Renown score</th>\n",
              "      <th>Market Research</th>\n",
              "      <th>Marketing</th>\n",
              "      <th>Analytics</th>\n",
              "      <th>Software Development</th>\n",
              "      <th>Mobile</th>\n",
              "      <th>Enterprise Software</th>\n",
              "      <th>Media</th>\n",
              "      <th>Cloud Computing</th>\n",
              "      <th>Network / Hosting / Infrastructure</th>\n",
              "      <th>Social Networking</th>\n",
              "      <th>Retail</th>\n",
              "      <th>Entertainment</th>\n",
              "      <th>Healthcare</th>\n",
              "      <th>Energy</th>\n",
              "      <th>Search</th>\n",
              "      <th>Food &amp; Beverages</th>\n",
              "      <th>Music</th>\n",
              "      <th>Publishing</th>\n",
              "      <th>Gaming</th>\n",
              "      <th>Email</th>\n",
              "      <th>Career / Job Search</th>\n",
              "    </tr>\n",
              "  </thead>\n",
              "  <tbody>\n",
              "    <tr>\n",
              "      <th>0</th>\n",
              "      <td>Success</td>\n",
              "      <td>NaN</td>\n",
              "      <td>-1.0</td>\n",
              "      <td>operation</td>\n",
              "      <td>3.0</td>\n",
              "      <td>0.0</td>\n",
              "      <td>No</td>\n",
              "      <td>NaN</td>\n",
              "      <td>450000.0</td>\n",
              "      <td>United States</td>\n",
              "      <td>2</td>\n",
              "      <td>0</td>\n",
              "      <td>1</td>\n",
              "      <td>2</td>\n",
              "      <td>2</td>\n",
              "      <td>Yes</td>\n",
              "      <td>4</td>\n",
              "      <td>Nothing</td>\n",
              "      <td>No</td>\n",
              "      <td>Small</td>\n",
              "      <td>No</td>\n",
              "      <td>No</td>\n",
              "      <td>No</td>\n",
              "      <td>No</td>\n",
              "      <td>Service</td>\n",
              "      <td>No</td>\n",
              "      <td>Private</td>\n",
              "      <td>No</td>\n",
              "      <td>Both</td>\n",
              "      <td>Yes</td>\n",
              "      <td>Platform</td>\n",
              "      <td>Global</td>\n",
              "      <td>Linear</td>\n",
              "      <td>Yes</td>\n",
              "      <td>None</td>\n",
              "      <td>No</td>\n",
              "      <td>No</td>\n",
              "      <td>No</td>\n",
              "      <td>No</td>\n",
              "      <td>No</td>\n",
              "      <td>...</td>\n",
              "      <td>No</td>\n",
              "      <td>No</td>\n",
              "      <td>No</td>\n",
              "      <td>NaN</td>\n",
              "      <td>9626884</td>\n",
              "      <td>No</td>\n",
              "      <td>Yes</td>\n",
              "      <td>No</td>\n",
              "      <td>2.0</td>\n",
              "      <td>Low</td>\n",
              "      <td>0</td>\n",
              "      <td>1.5</td>\n",
              "      <td>0.45</td>\n",
              "      <td>NaN</td>\n",
              "      <td>NaN</td>\n",
              "      <td>11.56</td>\n",
              "      <td>NaN</td>\n",
              "      <td>NaN</td>\n",
              "      <td>0</td>\n",
              "      <td>NaN</td>\n",
              "      <td>NaN</td>\n",
              "      <td>NaN</td>\n",
              "      <td>NaN</td>\n",
              "      <td>NaN</td>\n",
              "      <td>NaN</td>\n",
              "      <td>NaN</td>\n",
              "      <td>NaN</td>\n",
              "      <td>NaN</td>\n",
              "      <td>NaN</td>\n",
              "      <td>NaN</td>\n",
              "      <td>NaN</td>\n",
              "      <td>NaN</td>\n",
              "      <td>NaN</td>\n",
              "      <td>NaN</td>\n",
              "      <td>NaN</td>\n",
              "      <td>NaN</td>\n",
              "      <td>NaN</td>\n",
              "      <td>NaN</td>\n",
              "      <td>NaN</td>\n",
              "      <td>NaN</td>\n",
              "    </tr>\n",
              "    <tr>\n",
              "      <th>1</th>\n",
              "      <td>Success</td>\n",
              "      <td>2011</td>\n",
              "      <td>125.0</td>\n",
              "      <td>Marketing, sales</td>\n",
              "      <td>NaN</td>\n",
              "      <td>NaN</td>\n",
              "      <td>No</td>\n",
              "      <td>NaN</td>\n",
              "      <td>NaN</td>\n",
              "      <td>United States</td>\n",
              "      <td>5</td>\n",
              "      <td>0</td>\n",
              "      <td>2</td>\n",
              "      <td>0</td>\n",
              "      <td>4</td>\n",
              "      <td>No</td>\n",
              "      <td>0</td>\n",
              "      <td>medium</td>\n",
              "      <td>Yes</td>\n",
              "      <td>Large</td>\n",
              "      <td>Yes</td>\n",
              "      <td>Yes</td>\n",
              "      <td>No</td>\n",
              "      <td>No</td>\n",
              "      <td>Product</td>\n",
              "      <td>No</td>\n",
              "      <td>Public</td>\n",
              "      <td>Yes</td>\n",
              "      <td>Both</td>\n",
              "      <td>No</td>\n",
              "      <td>Platform</td>\n",
              "      <td>Local</td>\n",
              "      <td>Non-Linear</td>\n",
              "      <td>No</td>\n",
              "      <td>Few</td>\n",
              "      <td>Yes</td>\n",
              "      <td>No</td>\n",
              "      <td>Yes</td>\n",
              "      <td>Yes</td>\n",
              "      <td>No</td>\n",
              "      <td>...</td>\n",
              "      <td>No</td>\n",
              "      <td>No</td>\n",
              "      <td>Yes</td>\n",
              "      <td>Medium</td>\n",
              "      <td>1067034</td>\n",
              "      <td>Yes</td>\n",
              "      <td>Yes</td>\n",
              "      <td>No</td>\n",
              "      <td>3.0</td>\n",
              "      <td>Medium</td>\n",
              "      <td>0</td>\n",
              "      <td>6.666666667</td>\n",
              "      <td>5</td>\n",
              "      <td>Not Applicable</td>\n",
              "      <td>10</td>\n",
              "      <td>9</td>\n",
              "      <td>Trough</td>\n",
              "      <td>2 to 5</td>\n",
              "      <td>8</td>\n",
              "      <td>1.0</td>\n",
              "      <td>1.0</td>\n",
              "      <td>0.0</td>\n",
              "      <td>0.0</td>\n",
              "      <td>0.0</td>\n",
              "      <td>0.0</td>\n",
              "      <td>0.0</td>\n",
              "      <td>0.0</td>\n",
              "      <td>0.0</td>\n",
              "      <td>0.0</td>\n",
              "      <td>0.0</td>\n",
              "      <td>0.0</td>\n",
              "      <td>0.0</td>\n",
              "      <td>0.0</td>\n",
              "      <td>0.0</td>\n",
              "      <td>0.0</td>\n",
              "      <td>0.0</td>\n",
              "      <td>0.0</td>\n",
              "      <td>0.0</td>\n",
              "      <td>0.0</td>\n",
              "      <td>0.0</td>\n",
              "    </tr>\n",
              "    <tr>\n",
              "      <th>2</th>\n",
              "      <td>Success</td>\n",
              "      <td>2011</td>\n",
              "      <td>455.0</td>\n",
              "      <td>operations</td>\n",
              "      <td>14.0</td>\n",
              "      <td>0.0</td>\n",
              "      <td>No</td>\n",
              "      <td>12/1/2011</td>\n",
              "      <td>2350000.0</td>\n",
              "      <td>United States</td>\n",
              "      <td>15</td>\n",
              "      <td>0</td>\n",
              "      <td>3</td>\n",
              "      <td>0</td>\n",
              "      <td>7</td>\n",
              "      <td>No</td>\n",
              "      <td>0</td>\n",
              "      <td>low</td>\n",
              "      <td>Yes</td>\n",
              "      <td>Medium</td>\n",
              "      <td>No</td>\n",
              "      <td>No</td>\n",
              "      <td>No</td>\n",
              "      <td>No</td>\n",
              "      <td>Both</td>\n",
              "      <td>Yes</td>\n",
              "      <td>Private</td>\n",
              "      <td>Yes</td>\n",
              "      <td>Both</td>\n",
              "      <td>Yes</td>\n",
              "      <td>cloud</td>\n",
              "      <td>Local</td>\n",
              "      <td>Non-Linear</td>\n",
              "      <td>No</td>\n",
              "      <td>Few</td>\n",
              "      <td>No</td>\n",
              "      <td>No</td>\n",
              "      <td>No</td>\n",
              "      <td>Yes</td>\n",
              "      <td>No</td>\n",
              "      <td>...</td>\n",
              "      <td>No</td>\n",
              "      <td>No</td>\n",
              "      <td>No</td>\n",
              "      <td>Low</td>\n",
              "      <td>71391</td>\n",
              "      <td>Yes</td>\n",
              "      <td>Yes</td>\n",
              "      <td>Yes</td>\n",
              "      <td>3.0</td>\n",
              "      <td>Medium</td>\n",
              "      <td>0</td>\n",
              "      <td>3.333333333</td>\n",
              "      <td>2.35</td>\n",
              "      <td>Not Applicable</td>\n",
              "      <td>2</td>\n",
              "      <td>7.344444444</td>\n",
              "      <td>Trough</td>\n",
              "      <td>2 to 5</td>\n",
              "      <td>9</td>\n",
              "      <td>0.0</td>\n",
              "      <td>0.0</td>\n",
              "      <td>1.0</td>\n",
              "      <td>1.0</td>\n",
              "      <td>0.0</td>\n",
              "      <td>0.0</td>\n",
              "      <td>0.0</td>\n",
              "      <td>1.0</td>\n",
              "      <td>0.0</td>\n",
              "      <td>0.0</td>\n",
              "      <td>0.0</td>\n",
              "      <td>0.0</td>\n",
              "      <td>0.0</td>\n",
              "      <td>0.0</td>\n",
              "      <td>0.0</td>\n",
              "      <td>0.0</td>\n",
              "      <td>0.0</td>\n",
              "      <td>0.0</td>\n",
              "      <td>0.0</td>\n",
              "      <td>0.0</td>\n",
              "      <td>0.0</td>\n",
              "    </tr>\n",
              "    <tr>\n",
              "      <th>3</th>\n",
              "      <td>Success</td>\n",
              "      <td>2009</td>\n",
              "      <td>-99.0</td>\n",
              "      <td>Marketing &amp; Sales</td>\n",
              "      <td>45.0</td>\n",
              "      <td>10.0</td>\n",
              "      <td>No</td>\n",
              "      <td>6/20/2009</td>\n",
              "      <td>10250000.0</td>\n",
              "      <td>United States</td>\n",
              "      <td>6</td>\n",
              "      <td>0</td>\n",
              "      <td>2</td>\n",
              "      <td>0</td>\n",
              "      <td>4</td>\n",
              "      <td>Yes</td>\n",
              "      <td>0</td>\n",
              "      <td>low</td>\n",
              "      <td>No</td>\n",
              "      <td>Large</td>\n",
              "      <td>Yes</td>\n",
              "      <td>Yes</td>\n",
              "      <td>No</td>\n",
              "      <td>No</td>\n",
              "      <td>Product</td>\n",
              "      <td>Yes</td>\n",
              "      <td>Public</td>\n",
              "      <td>Yes</td>\n",
              "      <td>Structured</td>\n",
              "      <td>Yes</td>\n",
              "      <td>Platform</td>\n",
              "      <td>Local</td>\n",
              "      <td>Non-Linear</td>\n",
              "      <td>No</td>\n",
              "      <td>Few</td>\n",
              "      <td>Yes</td>\n",
              "      <td>No</td>\n",
              "      <td>No</td>\n",
              "      <td>No</td>\n",
              "      <td>No</td>\n",
              "      <td>...</td>\n",
              "      <td>No</td>\n",
              "      <td>No</td>\n",
              "      <td>No</td>\n",
              "      <td>Low</td>\n",
              "      <td>11847</td>\n",
              "      <td>No</td>\n",
              "      <td>Yes</td>\n",
              "      <td>Yes</td>\n",
              "      <td>4.0</td>\n",
              "      <td>Medium</td>\n",
              "      <td>2</td>\n",
              "      <td>10</td>\n",
              "      <td>10.25</td>\n",
              "      <td>Not Applicable</td>\n",
              "      <td>1</td>\n",
              "      <td>8.7</td>\n",
              "      <td>Trough</td>\n",
              "      <td>2 to 5</td>\n",
              "      <td>5</td>\n",
              "      <td>0.0</td>\n",
              "      <td>0.0</td>\n",
              "      <td>1.0</td>\n",
              "      <td>0.0</td>\n",
              "      <td>1.0</td>\n",
              "      <td>0.0</td>\n",
              "      <td>0.0</td>\n",
              "      <td>0.0</td>\n",
              "      <td>0.0</td>\n",
              "      <td>0.0</td>\n",
              "      <td>0.0</td>\n",
              "      <td>0.0</td>\n",
              "      <td>0.0</td>\n",
              "      <td>0.0</td>\n",
              "      <td>0.0</td>\n",
              "      <td>0.0</td>\n",
              "      <td>0.0</td>\n",
              "      <td>0.0</td>\n",
              "      <td>0.0</td>\n",
              "      <td>0.0</td>\n",
              "      <td>0.0</td>\n",
              "    </tr>\n",
              "    <tr>\n",
              "      <th>4</th>\n",
              "      <td>Success</td>\n",
              "      <td>2010</td>\n",
              "      <td>496.0</td>\n",
              "      <td>Marketing &amp; Sales</td>\n",
              "      <td>39.0</td>\n",
              "      <td>3.0</td>\n",
              "      <td>No</td>\n",
              "      <td>4/1/2010</td>\n",
              "      <td>5500000.0</td>\n",
              "      <td>United States</td>\n",
              "      <td>7</td>\n",
              "      <td>0</td>\n",
              "      <td>1</td>\n",
              "      <td>1</td>\n",
              "      <td>8</td>\n",
              "      <td>No</td>\n",
              "      <td>0</td>\n",
              "      <td>high</td>\n",
              "      <td>No</td>\n",
              "      <td>Small</td>\n",
              "      <td>No</td>\n",
              "      <td>No</td>\n",
              "      <td>No</td>\n",
              "      <td>No</td>\n",
              "      <td>Product</td>\n",
              "      <td>Yes</td>\n",
              "      <td>Public</td>\n",
              "      <td>Yes</td>\n",
              "      <td>Both</td>\n",
              "      <td>No</td>\n",
              "      <td>Platform</td>\n",
              "      <td>Local</td>\n",
              "      <td>Non-Linear</td>\n",
              "      <td>Yes</td>\n",
              "      <td>Few</td>\n",
              "      <td>No</td>\n",
              "      <td>No</td>\n",
              "      <td>No</td>\n",
              "      <td>No</td>\n",
              "      <td>No</td>\n",
              "      <td>...</td>\n",
              "      <td>No</td>\n",
              "      <td>No</td>\n",
              "      <td>No</td>\n",
              "      <td>Low</td>\n",
              "      <td>201814</td>\n",
              "      <td>Yes</td>\n",
              "      <td>Yes</td>\n",
              "      <td>No</td>\n",
              "      <td>3.0</td>\n",
              "      <td>Medium</td>\n",
              "      <td>0</td>\n",
              "      <td>10</td>\n",
              "      <td>5.5</td>\n",
              "      <td>Not Applicable</td>\n",
              "      <td>13</td>\n",
              "      <td>9.822222222</td>\n",
              "      <td>NaN</td>\n",
              "      <td>NaN</td>\n",
              "      <td>6</td>\n",
              "      <td>0.0</td>\n",
              "      <td>1.0</td>\n",
              "      <td>1.0</td>\n",
              "      <td>0.0</td>\n",
              "      <td>0.0</td>\n",
              "      <td>1.0</td>\n",
              "      <td>0.0</td>\n",
              "      <td>0.0</td>\n",
              "      <td>0.0</td>\n",
              "      <td>0.0</td>\n",
              "      <td>0.0</td>\n",
              "      <td>0.0</td>\n",
              "      <td>0.0</td>\n",
              "      <td>0.0</td>\n",
              "      <td>0.0</td>\n",
              "      <td>0.0</td>\n",
              "      <td>0.0</td>\n",
              "      <td>0.0</td>\n",
              "      <td>0.0</td>\n",
              "      <td>0.0</td>\n",
              "      <td>0.0</td>\n",
              "    </tr>\n",
              "  </tbody>\n",
              "</table>\n",
              "<p>5 rows × 114 columns</p>\n",
              "</div>"
            ],
            "text/plain": [
              "  Dependent-Company Status year of founding  ...  Email Career / Job Search\n",
              "0                  Success              NaN  ...    NaN                 NaN\n",
              "1                  Success             2011  ...    0.0                 0.0\n",
              "2                  Success             2011  ...    0.0                 0.0\n",
              "3                  Success             2009  ...    0.0                 0.0\n",
              "4                  Success             2010  ...    0.0                 0.0\n",
              "\n",
              "[5 rows x 114 columns]"
            ]
          },
          "metadata": {
            "tags": []
          },
          "execution_count": 28
        }
      ]
    },
    {
      "cell_type": "markdown",
      "metadata": {
        "id": "gfKdsHkzTZfX"
      },
      "source": [
        "There's no features here that may be made after the respective company has failed or suceeded, so there is no feature leakage"
      ]
    },
    {
      "cell_type": "code",
      "metadata": {
        "id": "ImZoM-ETsLzQ",
        "outputId": "15a0139a-ad2b-4aa1-c1a2-a9959ca67efe",
        "colab": {
          "base_uri": "https://localhost:8080/",
          "height": 70
        }
      },
      "source": [
        "df['Dependent-Company Status'].value_counts()"
      ],
      "execution_count": 30,
      "outputs": [
        {
          "output_type": "execute_result",
          "data": {
            "text/plain": [
              "Success    305\n",
              "Failed     167\n",
              "Name: Dependent-Company Status, dtype: int64"
            ]
          },
          "metadata": {
            "tags": []
          },
          "execution_count": 30
        }
      ]
    },
    {
      "cell_type": "markdown",
      "metadata": {
        "id": "QZZy2KvmH8Rw"
      },
      "source": [
        "To choose my target, I began looking around the many categories the dataset had.\n",
        "\n",
        "After taking a look at all the categories, I decided to go with the Dependent-Company Status, which is the column describing wether the startup suceeds or fails.\n",
        "\n",
        "I chose this category due to it's incredibly low cardinality, making it perfect to tackle as a classification problem. That and it's lack of missing values made it the perfect cardinality for the target vector.\n",
        "\n",
        "So now, we'll divide the data accordingly. "
      ]
    },
    {
      "cell_type": "code",
      "metadata": {
        "id": "gQrvF-1AHzDk"
      },
      "source": [
        "# Make our X and y dataframes.\n",
        "X = df.drop('Dependent-Company Status', axis=1)\n",
        "y = df['Dependent-Company Status']"
      ],
      "execution_count": 31,
      "outputs": []
    },
    {
      "cell_type": "markdown",
      "metadata": {
        "id": "fvVSv45QJc3J"
      },
      "source": [
        "Now we'll divide our data into three subsets. Our training to train the model, our validation to see how our model performs, and then our test to see how our model will perform outside of the data it was given.\n",
        "\n",
        "We're doing this so as to not use our metrics on data the model was trained on, as to avoid data leakage."
      ]
    },
    {
      "cell_type": "code",
      "metadata": {
        "id": "8U3zhgbNIsxk"
      },
      "source": [
        "# Split the data\n",
        "X_train_l, X_test, y_train_l, y_test = train_test_split(X, y, train_size=0.90)"
      ],
      "execution_count": 77,
      "outputs": []
    },
    {
      "cell_type": "code",
      "metadata": {
        "id": "hxPfPHYIJIuJ"
      },
      "source": [
        "X_train, X_val, y_train, y_val = train_test_split(X_train_l, y_train_l, train_size=0.85)"
      ],
      "execution_count": 78,
      "outputs": []
    },
    {
      "cell_type": "markdown",
      "metadata": {
        "id": "L5eT2iflJrlx"
      },
      "source": [
        "Since this is a categorical problem, we'll use the largest instance of the target vector as our baseline. That is to say that we'll assume that all instances are the most apparent instance. We do this as to set a minimum score that our model has to beat."
      ]
    },
    {
      "cell_type": "code",
      "metadata": {
        "id": "vnORBrByI4Qc",
        "outputId": "7bddb9f8-bd17-461a-ed3e-1f6ea90c5ee5",
        "colab": {
          "base_uri": "https://localhost:8080/",
          "height": 35
        }
      },
      "source": [
        "# Establish the baseline\n",
        "print(\"The baseline of our model is: \", y_train.value_counts(normalize=True).max(), \"%\")"
      ],
      "execution_count": 40,
      "outputs": [
        {
          "output_type": "stream",
          "text": [
            "The baseline of our model is:  0.65 %\n"
          ],
          "name": "stdout"
        }
      ]
    },
    {
      "cell_type": "markdown",
      "metadata": {
        "id": "ObZ-2jo3oFey"
      },
      "source": [
        "# Make our model"
      ]
    },
    {
      "cell_type": "code",
      "metadata": {
        "id": "3bjMZTkiJpZx"
      },
      "source": [
        "# Make the pipeline\n",
        "model = make_pipeline(\n",
        "    OrdinalEncoder(),\n",
        "    SimpleImputer(),\n",
        "    StandardScaler(),\n",
        "    LogisticRegression()\n",
        ")"
      ],
      "execution_count": 57,
      "outputs": []
    },
    {
      "cell_type": "code",
      "metadata": {
        "id": "TPwRr_GboHYb",
        "outputId": "5d301e75-7db6-431c-f02f-b30dc18b6c25",
        "colab": {
          "base_uri": "https://localhost:8080/",
          "height": 461
        }
      },
      "source": [
        "# Fit our model\n",
        "model.fit(X_train, y_train)"
      ],
      "execution_count": 58,
      "outputs": [
        {
          "output_type": "execute_result",
          "data": {
            "text/plain": [
              "Pipeline(memory=None,\n",
              "         steps=[('ordinalencoder',\n",
              "                 OrdinalEncoder(cols=['year of founding',\n",
              "                                      'Focus functions of company',\n",
              "                                      'Has the team size grown',\n",
              "                                      'Est. Founding Date',\n",
              "                                      'Country of company',\n",
              "                                      'Number of Investors in Seed',\n",
              "                                      'Number of Investors in Angel and or VC',\n",
              "                                      'Presence of a top angel or venture fund '\n",
              "                                      'in previous round of investment',\n",
              "                                      'Number of of repeat investors',\n",
              "                                      'Number of  Sales Support materia...\n",
              "                               verbose=0)),\n",
              "                ('standardscaler',\n",
              "                 StandardScaler(copy=True, with_mean=True, with_std=True)),\n",
              "                ('logisticregression',\n",
              "                 LogisticRegression(C=1.0, class_weight=None, dual=False,\n",
              "                                    fit_intercept=True, intercept_scaling=1,\n",
              "                                    l1_ratio=None, max_iter=100,\n",
              "                                    multi_class='auto', n_jobs=None,\n",
              "                                    penalty='l2', random_state=None,\n",
              "                                    solver='lbfgs', tol=0.0001, verbose=0,\n",
              "                                    warm_start=False))],\n",
              "         verbose=False)"
            ]
          },
          "metadata": {
            "tags": []
          },
          "execution_count": 58
        }
      ]
    },
    {
      "cell_type": "markdown",
      "metadata": {
        "id": "jC8UmxADpXv_"
      },
      "source": [
        "## Choosing our metric\n",
        "\n",
        "We're dealing with a classification problem. That means that there's some metrics that do not work well with out model. We'll use three metrics: Accuracy, precision and recall. Accuracy is just to give us an overall idea of the model's performance, and precision and recall will give us a better specific idea of how the model is performing. This is because:\n",
        "\n",
        "  Precision: How likely is the startup predicted to succeed to actually be successful?\n",
        "\n",
        "  Recall: How likely is the startup predicted to fail to actually fail?"
      ]
    },
    {
      "cell_type": "code",
      "metadata": {
        "id": "M1ron9bfoURL",
        "outputId": "20e2dd8b-e71c-44e6-e7df-08969a19495d",
        "colab": {
          "base_uri": "https://localhost:8080/",
          "height": 52
        }
      },
      "source": [
        "# First we'll look at the training accuracy\n",
        "print(\"Model's accuracy on training data: \", model.score(X_train, y_train))\n",
        "# Now, we'll see our valiation accuracy\n",
        "print(\"Model's accuracy on training data: \", model.score(X_val, y_val))"
      ],
      "execution_count": 59,
      "outputs": [
        {
          "output_type": "stream",
          "text": [
            "Model's accuracy on training data:  0.9833333333333333\n",
            "Model's accuracy on training data:  0.90625\n"
          ],
          "name": "stdout"
        }
      ]
    },
    {
      "cell_type": "code",
      "metadata": {
        "id": "5o6X6Iw-qJk3",
        "outputId": "107ac448-b727-40f9-9178-d031f9d3316c",
        "colab": {
          "base_uri": "https://localhost:8080/",
          "height": 297
        }
      },
      "source": [
        "# Plot a confusion matrix\n",
        "fig, ax = plt.subplots(1,1, figsize=(8,8))\n",
        "\n",
        "plot_confusion_matrix(model, X_val, y_val,\n",
        "                      display_labels=['Success', 'Failed'],\n",
        "                      )\n",
        "fig.clf()"
      ],
      "execution_count": 60,
      "outputs": [
        {
          "output_type": "display_data",
          "data": {
            "text/plain": [
              "<Figure size 576x576 with 0 Axes>"
            ]
          },
          "metadata": {
            "tags": []
          }
        },
        {
          "output_type": "display_data",
          "data": {
            "image/png": "[encoded data removed]",
            "text/plain": [
              "<Figure size 432x288 with 2 Axes>"
            ]
          },
          "metadata": {
            "tags": [],
            "needs_background": "light"
          }
        }
      ]
    },
    {
      "cell_type": "code",
      "metadata": {
        "id": "gk8tnqWzqfCD",
        "outputId": "e92cc0c9-ce25-43db-faa8-69132d422b4d",
        "colab": {
          "base_uri": "https://localhost:8080/",
          "height": 177
        }
      },
      "source": [
        "# See our precision and recall\n",
        "y_pred = model.predict(X_val)\n",
        "print (metrics.classification_report(y_val, y_pred))"
      ],
      "execution_count": 62,
      "outputs": [
        {
          "output_type": "stream",
          "text": [
            "              precision    recall  f1-score   support\n",
            "\n",
            "      Failed       0.91      0.84      0.87        25\n",
            "     Success       0.90      0.95      0.92        39\n",
            "\n",
            "    accuracy                           0.91        64\n",
            "   macro avg       0.91      0.89      0.90        64\n",
            "weighted avg       0.91      0.91      0.91        64\n",
            "\n"
          ],
          "name": "stdout"
        }
      ]
    },
    {
      "cell_type": "markdown",
      "metadata": {
        "id": "4ZTDriZqtFTg"
      },
      "source": [
        "Pretty good! This model does a great job at predicting failed startups correctly and predicting successful startups correctly. Now, let's try doing it with a tree-based model, and see how our performance differs. "
      ]
    },
    {
      "cell_type": "code",
      "metadata": {
        "id": "-87LtwLcqpPI"
      },
      "source": [
        "# Make the pipeline\n",
        "model_t = make_pipeline(\n",
        "    OrdinalEncoder(),\n",
        "    SimpleImputer(),\n",
        "    XGBClassifier()\n",
        ")"
      ],
      "execution_count": 69,
      "outputs": []
    },
    {
      "cell_type": "code",
      "metadata": {
        "id": "I-zhb1_Xtl3r",
        "outputId": "e5f855b7-7a50-498e-c3f9-075e66a4e17a",
        "colab": {
          "base_uri": "https://localhost:8080/",
          "height": 444
        }
      },
      "source": [
        "model_t.fit(X_train, y_train)"
      ],
      "execution_count": 71,
      "outputs": [
        {
          "output_type": "execute_result",
          "data": {
            "text/plain": [
              "Pipeline(memory=None,\n",
              "         steps=[('ordinalencoder',\n",
              "                 OrdinalEncoder(cols=['year of founding',\n",
              "                                      'Focus functions of company',\n",
              "                                      'Has the team size grown',\n",
              "                                      'Est. Founding Date',\n",
              "                                      'Country of company',\n",
              "                                      'Number of Investors in Seed',\n",
              "                                      'Number of Investors in Angel and or VC',\n",
              "                                      'Presence of a top angel or venture fund '\n",
              "                                      'in previous round of investment',\n",
              "                                      'Number of of repeat investors',\n",
              "                                      'Number of  Sales Support materia...\n",
              "                 XGBClassifier(base_score=0.5, booster='gbtree',\n",
              "                               colsample_bylevel=1, colsample_bynode=1,\n",
              "                               colsample_bytree=1, gamma=0, learning_rate=0.1,\n",
              "                               max_delta_step=0, max_depth=3,\n",
              "                               min_child_weight=1, missing=None,\n",
              "                               n_estimators=100, n_jobs=1, nthread=None,\n",
              "                               objective='binary:logistic', random_state=0,\n",
              "                               reg_alpha=0, reg_lambda=1, scale_pos_weight=1,\n",
              "                               seed=None, silent=None, subsample=1,\n",
              "                               verbosity=1))],\n",
              "         verbose=False)"
            ]
          },
          "metadata": {
            "tags": []
          },
          "execution_count": 71
        }
      ]
    },
    {
      "cell_type": "code",
      "metadata": {
        "id": "tc5YuDsTtfN2",
        "outputId": "fdc95526-a216-416e-e70e-628a6b6fd08a",
        "colab": {
          "base_uri": "https://localhost:8080/",
          "height": 52
        }
      },
      "source": [
        "# First we'll look at the training accuracy\n",
        "print(\"Model's accuracy on training data: \", model_t.score(X_train, y_train))\n",
        "# Now, we'll see our valiation accuracy\n",
        "print(\"Model's accuracy on training data: \", model_t.score(X_val, y_val))"
      ],
      "execution_count": 72,
      "outputs": [
        {
          "output_type": "stream",
          "text": [
            "Model's accuracy on training data:  1.0\n",
            "Model's accuracy on training data:  0.90625\n"
          ],
          "name": "stdout"
        }
      ]
    },
    {
      "cell_type": "code",
      "metadata": {
        "id": "mzGoAtuctkxC",
        "outputId": "37c4379e-af35-4bd8-db67-ccccad1b7b9f",
        "colab": {
          "base_uri": "https://localhost:8080/",
          "height": 297
        }
      },
      "source": [
        "# Plot a confusion matrix\n",
        "fig, ax = plt.subplots(1,1, figsize=(8,8))\n",
        "\n",
        "plot_confusion_matrix(model_t, X_val, y_val,\n",
        "                      display_labels=['Success', 'Failed'],\n",
        "                      )\n",
        "fig.clf()"
      ],
      "execution_count": 73,
      "outputs": [
        {
          "output_type": "display_data",
          "data": {
            "text/plain": [
              "<Figure size 576x576 with 0 Axes>"
            ]
          },
          "metadata": {
            "tags": []
          }
        },
        {
          "output_type": "display_data",
          "data": {
            "image/png": "[encoded data removed]",
            "text/plain": [
              "<Figure size 432x288 with 2 Axes>"
            ]
          },
          "metadata": {
            "tags": [],
            "needs_background": "light"
          }
        }
      ]
    },
    {
      "cell_type": "code",
      "metadata": {
        "id": "RNhT7pq5t3wG",
        "outputId": "d3117f4d-b68b-4c5b-bab1-33aef9ca24e1",
        "colab": {
          "base_uri": "https://localhost:8080/",
          "height": 177
        }
      },
      "source": [
        "# See our precision and recall\n",
        "y_pred_t = model_t.predict(X_val)\n",
        "print (metrics.classification_report(y_val, y_pred_t))"
      ],
      "execution_count": 76,
      "outputs": [
        {
          "output_type": "stream",
          "text": [
            "              precision    recall  f1-score   support\n",
            "\n",
            "      Failed       0.91      0.84      0.87        25\n",
            "     Success       0.90      0.95      0.92        39\n",
            "\n",
            "    accuracy                           0.91        64\n",
            "   macro avg       0.91      0.89      0.90        64\n",
            "weighted avg       0.91      0.91      0.91        64\n",
            "\n"
          ],
          "name": "stdout"
        }
      ]
    },
    {
      "cell_type": "markdown",
      "metadata": {
        "id": "5F6BNjbIuNjz"
      },
      "source": [
        "Both seem to perform relatively equally. This is most likely due to the small size of the validation data, which we had to operate due to the small amount of observations we had. A good fix for this is to try k-fold cross validation, as that might give us better results."
      ]
    },
    {
      "cell_type": "markdown",
      "metadata": {
        "id": "9xpwjXTqviCf"
      },
      "source": [
        "First, we'll do our linear model"
      ]
    },
    {
      "cell_type": "code",
      "metadata": {
        "id": "taPV6BBmt5kH",
        "outputId": "906be345-dd19-4c7b-d0b5-82933a1d1836",
        "colab": {
          "base_uri": "https://localhost:8080/",
          "height": 230
        }
      },
      "source": [
        "# Instantiate the k-fold cross-validation \n",
        "kfold_cv = KFold(n_splits=5, shuffle=True, random_state=11)\n",
        "\n",
        "# Fit the model using k-fold cross-validation\n",
        "cv_scores = cross_val_score(model, X_train_l, y_train_l,\n",
        "                           cv=kfold_cv)\n",
        "\n",
        "# Print the mean score\n",
        "print('All cv scores: ', cv_scores)\n",
        "\n",
        "# Print the mean score\n",
        "print('Mean of all cv scores: ', cv_scores.mean())"
      ],
      "execution_count": 83,
      "outputs": [
        {
          "output_type": "stream",
          "text": [
            "/usr/local/lib/python3.6/dist-packages/category_encoders/utils.py:21: FutureWarning: is_categorical is deprecated and will be removed in a future version.  Use is_categorical_dtype instead\n",
            "  elif pd.api.types.is_categorical(cols):\n",
            "/usr/local/lib/python3.6/dist-packages/category_encoders/utils.py:21: FutureWarning: is_categorical is deprecated and will be removed in a future version.  Use is_categorical_dtype instead\n",
            "  elif pd.api.types.is_categorical(cols):\n",
            "/usr/local/lib/python3.6/dist-packages/category_encoders/utils.py:21: FutureWarning: is_categorical is deprecated and will be removed in a future version.  Use is_categorical_dtype instead\n",
            "  elif pd.api.types.is_categorical(cols):\n",
            "/usr/local/lib/python3.6/dist-packages/category_encoders/utils.py:21: FutureWarning: is_categorical is deprecated and will be removed in a future version.  Use is_categorical_dtype instead\n",
            "  elif pd.api.types.is_categorical(cols):\n",
            "/usr/local/lib/python3.6/dist-packages/category_encoders/utils.py:21: FutureWarning: is_categorical is deprecated and will be removed in a future version.  Use is_categorical_dtype instead\n",
            "  elif pd.api.types.is_categorical(cols):\n"
          ],
          "name": "stderr"
        },
        {
          "output_type": "stream",
          "text": [
            "All cv scores:  [0.89411765 0.87058824 0.81176471 0.85882353 0.86904762]\n",
            "Mean of all cv scores:  0.8608683473389356\n"
          ],
          "name": "stdout"
        }
      ]
    },
    {
      "cell_type": "markdown",
      "metadata": {
        "id": "GWtMe9J0vkJh"
      },
      "source": [
        "Now our XGBoost model"
      ]
    },
    {
      "cell_type": "code",
      "metadata": {
        "id": "nrlSXGk6vNAt",
        "outputId": "8b07001e-99fe-4f62-d5ca-87387275301a",
        "colab": {
          "base_uri": "https://localhost:8080/",
          "height": 230
        }
      },
      "source": [
        "# Instantiate the k-fold cross-validation \n",
        "kfold_cv = KFold(n_splits=5, shuffle=True, random_state=11)\n",
        "\n",
        "# Fit the model using k-fold cross-validation\n",
        "cv_scores = cross_val_score(model_t, X_train_l, y_train_l,\n",
        "                           cv=kfold_cv)\n",
        "\n",
        "# Print the mean score\n",
        "print('All cv scores: ', cv_scores)\n",
        "\n",
        "# Print the mean score\n",
        "print('Mean of all cv scores: ', cv_scores.mean())"
      ],
      "execution_count": 84,
      "outputs": [
        {
          "output_type": "stream",
          "text": [
            "/usr/local/lib/python3.6/dist-packages/category_encoders/utils.py:21: FutureWarning: is_categorical is deprecated and will be removed in a future version.  Use is_categorical_dtype instead\n",
            "  elif pd.api.types.is_categorical(cols):\n",
            "/usr/local/lib/python3.6/dist-packages/category_encoders/utils.py:21: FutureWarning: is_categorical is deprecated and will be removed in a future version.  Use is_categorical_dtype instead\n",
            "  elif pd.api.types.is_categorical(cols):\n",
            "/usr/local/lib/python3.6/dist-packages/category_encoders/utils.py:21: FutureWarning: is_categorical is deprecated and will be removed in a future version.  Use is_categorical_dtype instead\n",
            "  elif pd.api.types.is_categorical(cols):\n",
            "/usr/local/lib/python3.6/dist-packages/category_encoders/utils.py:21: FutureWarning: is_categorical is deprecated and will be removed in a future version.  Use is_categorical_dtype instead\n",
            "  elif pd.api.types.is_categorical(cols):\n",
            "/usr/local/lib/python3.6/dist-packages/category_encoders/utils.py:21: FutureWarning: is_categorical is deprecated and will be removed in a future version.  Use is_categorical_dtype instead\n",
            "  elif pd.api.types.is_categorical(cols):\n"
          ],
          "name": "stderr"
        },
        {
          "output_type": "stream",
          "text": [
            "All cv scores:  [0.91764706 0.87058824 0.89411765 0.91764706 0.94047619]\n",
            "Mean of all cv scores:  0.9080952380952381\n"
          ],
          "name": "stdout"
        }
      ]
    },
    {
      "cell_type": "markdown",
      "metadata": {
        "id": "S_3S--AWvm4m"
      },
      "source": [
        "Great! By using K-fold cross validation, we can see our xgboost model performs far better!\n",
        "\n",
        "Now, let's select that model, and see how it performs against the test data.\n",
        "\n"
      ]
    },
    {
      "cell_type": "code",
      "metadata": {
        "id": "nNOh_2WLvgbS",
        "outputId": "a0f0170c-f9ac-47d9-a1e3-3b4da04bf40e",
        "colab": {
          "base_uri": "https://localhost:8080/",
          "height": 479
        }
      },
      "source": [
        "model_t.fit(X_train_l, y_train_l)"
      ],
      "execution_count": 85,
      "outputs": [
        {
          "output_type": "stream",
          "text": [
            "/usr/local/lib/python3.6/dist-packages/category_encoders/utils.py:21: FutureWarning: is_categorical is deprecated and will be removed in a future version.  Use is_categorical_dtype instead\n",
            "  elif pd.api.types.is_categorical(cols):\n"
          ],
          "name": "stderr"
        },
        {
          "output_type": "execute_result",
          "data": {
            "text/plain": [
              "Pipeline(memory=None,\n",
              "         steps=[('ordinalencoder',\n",
              "                 OrdinalEncoder(cols=['year of founding',\n",
              "                                      'Focus functions of company',\n",
              "                                      'Has the team size grown',\n",
              "                                      'Est. Founding Date',\n",
              "                                      'Country of company',\n",
              "                                      'Number of Investors in Seed',\n",
              "                                      'Number of Investors in Angel and or VC',\n",
              "                                      'Presence of a top angel or venture fund '\n",
              "                                      'in previous round of investment',\n",
              "                                      'Number of of repeat investors',\n",
              "                                      'Number of  Sales Support materia...\n",
              "                 XGBClassifier(base_score=0.5, booster='gbtree',\n",
              "                               colsample_bylevel=1, colsample_bynode=1,\n",
              "                               colsample_bytree=1, gamma=0, learning_rate=0.1,\n",
              "                               max_delta_step=0, max_depth=3,\n",
              "                               min_child_weight=1, missing=None,\n",
              "                               n_estimators=100, n_jobs=1, nthread=None,\n",
              "                               objective='binary:logistic', random_state=0,\n",
              "                               reg_alpha=0, reg_lambda=1, scale_pos_weight=1,\n",
              "                               seed=None, silent=None, subsample=1,\n",
              "                               verbosity=1))],\n",
              "         verbose=False)"
            ]
          },
          "metadata": {
            "tags": []
          },
          "execution_count": 85
        }
      ]
    },
    {
      "cell_type": "code",
      "metadata": {
        "id": "iY3g1LThv5Lk",
        "outputId": "508995b8-0210-4a26-8af0-65dc7ce1db3a",
        "colab": {
          "base_uri": "https://localhost:8080/",
          "height": 52
        }
      },
      "source": [
        "# First we'll look at the training accuracy\n",
        "print(\"Model's accuracy on training data: \", model_t.score(X_train_l, y_train_l))\n",
        "# Now, we'll see our valiation accuracy\n",
        "print(\"Model's accuracy on training data: \", model_t.score(X_test, y_test))"
      ],
      "execution_count": 86,
      "outputs": [
        {
          "output_type": "stream",
          "text": [
            "Model's accuracy on training data:  1.0\n",
            "Model's accuracy on training data:  0.9375\n"
          ],
          "name": "stdout"
        }
      ]
    },
    {
      "cell_type": "code",
      "metadata": {
        "id": "It2vHRTawBEZ",
        "outputId": "9d3d9089-c447-46ba-8c12-a49f049d492b",
        "colab": {
          "base_uri": "https://localhost:8080/",
          "height": 297
        }
      },
      "source": [
        "# Plot a confusion matrix\n",
        "fig, ax = plt.subplots(1,1, figsize=(8,8))\n",
        "\n",
        "plot_confusion_matrix(model_t, X_test, y_test,\n",
        "                      display_labels=['Success', 'Failed'],\n",
        "                      )\n",
        "fig.clf()"
      ],
      "execution_count": 87,
      "outputs": [
        {
          "output_type": "display_data",
          "data": {
            "text/plain": [
              "<Figure size 576x576 with 0 Axes>"
            ]
          },
          "metadata": {
            "tags": []
          }
        },
        {
          "output_type": "display_data",
          "data": {
            "image/png": "[encoded data removed]",
            "text/plain": [
              "<Figure size 432x288 with 2 Axes>"
            ]
          },
          "metadata": {
            "tags": [],
            "needs_background": "light"
          }
        }
      ]
    },
    {
      "cell_type": "code",
      "metadata": {
        "id": "liws6_oMwFi6",
        "outputId": "777b4a27-9252-46f0-b8de-b4c4c5344150",
        "colab": {
          "base_uri": "https://localhost:8080/",
          "height": 177
        }
      },
      "source": [
        "# See our precision and recall\n",
        "y_pred_t = model_t.predict(X_test)\n",
        "print (metrics.classification_report(y_test, y_pred_t))"
      ],
      "execution_count": 89,
      "outputs": [
        {
          "output_type": "stream",
          "text": [
            "              precision    recall  f1-score   support\n",
            "\n",
            "      Failed       0.93      0.88      0.90        16\n",
            "     Success       0.94      0.97      0.95        32\n",
            "\n",
            "    accuracy                           0.94        48\n",
            "   macro avg       0.94      0.92      0.93        48\n",
            "weighted avg       0.94      0.94      0.94        48\n",
            "\n"
          ],
          "name": "stdout"
        }
      ]
    },
    {
      "cell_type": "markdown",
      "metadata": {
        "id": "3OTBj2wmwcWQ"
      },
      "source": [
        "Good stats! We'll be using this model for our web app, as it's doing a great job at predicting the startups!"
      ]
    }
  ]
}