{
 "cells": [
  {
   "cell_type": "code",
   "execution_count": 1,
   "metadata": {},
   "outputs": [],
   "source": [
    "import pandas as pd\n",
    "from sklearn.metrics import plot_confusion_matrix\n",
    "from sklearn.impute import SimpleImputer\n",
    "from category_encoders import OrdinalEncoder\n",
    "from xgboost import XGBClassifier\n",
    "from sklearn.model_selection import train_test_split, KFold, cross_val_score, GridSearchCV\n",
    "from sklearn.pipeline import make_pipeline\n",
    "import matplotlib.pyplot as plt\n",
    "from sklearn.metrics import plot_confusion_matrix\n",
    "from sklearn import metrics\n",
    "import pickle"
   ]
  },
  {
   "cell_type": "code",
   "execution_count": 4,
   "metadata": {},
   "outputs": [],
   "source": [
    "df = pd.read_csv(\"model/final_dataset_form.csv\")"
   ]
  },
  {
   "cell_type": "code",
   "execution_count": 5,
   "metadata": {},
   "outputs": [
    {
     "data": {
      "text/html": [
       "<div>\n",
       "<style scoped>\n",
       "    .dataframe tbody tr th:only-of-type {\n",
       "        vertical-align: middle;\n",
       "    }\n",
       "\n",
       "    .dataframe tbody tr th {\n",
       "        vertical-align: top;\n",
       "    }\n",
       "\n",
       "    .dataframe thead th {\n",
       "        text-align: right;\n",
       "    }\n",
       "</style>\n",
       "<table border=\"1\" class=\"dataframe\">\n",
       "  <thead>\n",
       "    <tr style=\"text-align: right;\">\n",
       "      <th></th>\n",
       "      <th>Unnamed: 0</th>\n",
       "      <th>Dependent-Company Status</th>\n",
       "      <th>year of founding</th>\n",
       "      <th>Internet Activity Score</th>\n",
       "      <th>Focus functions of company</th>\n",
       "      <th>Employee Count</th>\n",
       "      <th>Employees count MoM change</th>\n",
       "      <th>Has the team size grown</th>\n",
       "      <th>Est. Founding Date</th>\n",
       "      <th>Last Funding Amount</th>\n",
       "      <th>...</th>\n",
       "      <th>Entertainment</th>\n",
       "      <th>Healthcare</th>\n",
       "      <th>Energy</th>\n",
       "      <th>Search</th>\n",
       "      <th>Food &amp; Beverages</th>\n",
       "      <th>Music</th>\n",
       "      <th>Publishing</th>\n",
       "      <th>Gaming</th>\n",
       "      <th>Email</th>\n",
       "      <th>Career / Job Search</th>\n",
       "    </tr>\n",
       "  </thead>\n",
       "  <tbody>\n",
       "    <tr>\n",
       "      <th>0</th>\n",
       "      <td>0</td>\n",
       "      <td>Success</td>\n",
       "      <td>NaN</td>\n",
       "      <td>-1.0</td>\n",
       "      <td>operation</td>\n",
       "      <td>3.0</td>\n",
       "      <td>0.0</td>\n",
       "      <td>No</td>\n",
       "      <td>NaN</td>\n",
       "      <td>450000.0</td>\n",
       "      <td>...</td>\n",
       "      <td>NaN</td>\n",
       "      <td>NaN</td>\n",
       "      <td>NaN</td>\n",
       "      <td>NaN</td>\n",
       "      <td>NaN</td>\n",
       "      <td>NaN</td>\n",
       "      <td>NaN</td>\n",
       "      <td>NaN</td>\n",
       "      <td>NaN</td>\n",
       "      <td>NaN</td>\n",
       "    </tr>\n",
       "    <tr>\n",
       "      <th>1</th>\n",
       "      <td>1</td>\n",
       "      <td>Success</td>\n",
       "      <td>2011.0</td>\n",
       "      <td>125.0</td>\n",
       "      <td>Marketing, sales</td>\n",
       "      <td>NaN</td>\n",
       "      <td>NaN</td>\n",
       "      <td>No</td>\n",
       "      <td>NaN</td>\n",
       "      <td>NaN</td>\n",
       "      <td>...</td>\n",
       "      <td>0.0</td>\n",
       "      <td>0.0</td>\n",
       "      <td>0.0</td>\n",
       "      <td>0.0</td>\n",
       "      <td>0.0</td>\n",
       "      <td>0.0</td>\n",
       "      <td>0.0</td>\n",
       "      <td>0.0</td>\n",
       "      <td>0.0</td>\n",
       "      <td>0.0</td>\n",
       "    </tr>\n",
       "    <tr>\n",
       "      <th>2</th>\n",
       "      <td>2</td>\n",
       "      <td>Success</td>\n",
       "      <td>2011.0</td>\n",
       "      <td>455.0</td>\n",
       "      <td>operations</td>\n",
       "      <td>14.0</td>\n",
       "      <td>0.0</td>\n",
       "      <td>No</td>\n",
       "      <td>12/1/2011</td>\n",
       "      <td>2350000.0</td>\n",
       "      <td>...</td>\n",
       "      <td>0.0</td>\n",
       "      <td>0.0</td>\n",
       "      <td>0.0</td>\n",
       "      <td>0.0</td>\n",
       "      <td>0.0</td>\n",
       "      <td>0.0</td>\n",
       "      <td>0.0</td>\n",
       "      <td>0.0</td>\n",
       "      <td>0.0</td>\n",
       "      <td>0.0</td>\n",
       "    </tr>\n",
       "    <tr>\n",
       "      <th>3</th>\n",
       "      <td>3</td>\n",
       "      <td>Success</td>\n",
       "      <td>2009.0</td>\n",
       "      <td>-99.0</td>\n",
       "      <td>Marketing &amp; Sales</td>\n",
       "      <td>45.0</td>\n",
       "      <td>10.0</td>\n",
       "      <td>No</td>\n",
       "      <td>6/20/2009</td>\n",
       "      <td>10250000.0</td>\n",
       "      <td>...</td>\n",
       "      <td>0.0</td>\n",
       "      <td>0.0</td>\n",
       "      <td>0.0</td>\n",
       "      <td>0.0</td>\n",
       "      <td>0.0</td>\n",
       "      <td>0.0</td>\n",
       "      <td>0.0</td>\n",
       "      <td>0.0</td>\n",
       "      <td>0.0</td>\n",
       "      <td>0.0</td>\n",
       "    </tr>\n",
       "    <tr>\n",
       "      <th>4</th>\n",
       "      <td>4</td>\n",
       "      <td>Success</td>\n",
       "      <td>2010.0</td>\n",
       "      <td>496.0</td>\n",
       "      <td>Marketing &amp; Sales</td>\n",
       "      <td>39.0</td>\n",
       "      <td>3.0</td>\n",
       "      <td>No</td>\n",
       "      <td>4/1/2010</td>\n",
       "      <td>5500000.0</td>\n",
       "      <td>...</td>\n",
       "      <td>0.0</td>\n",
       "      <td>0.0</td>\n",
       "      <td>0.0</td>\n",
       "      <td>0.0</td>\n",
       "      <td>0.0</td>\n",
       "      <td>0.0</td>\n",
       "      <td>0.0</td>\n",
       "      <td>0.0</td>\n",
       "      <td>0.0</td>\n",
       "      <td>0.0</td>\n",
       "    </tr>\n",
       "  </tbody>\n",
       "</table>\n",
       "<p>5 rows × 115 columns</p>\n",
       "</div>"
      ],
      "text/plain": [
       "   Unnamed: 0 Dependent-Company Status  year of founding  \\\n",
       "0           0                  Success               NaN   \n",
       "1           1                  Success            2011.0   \n",
       "2           2                  Success            2011.0   \n",
       "3           3                  Success            2009.0   \n",
       "4           4                  Success            2010.0   \n",
       "\n",
       "   Internet Activity Score Focus functions of company  Employee Count  \\\n",
       "0                     -1.0                  operation             3.0   \n",
       "1                    125.0           Marketing, sales             NaN   \n",
       "2                    455.0                 operations            14.0   \n",
       "3                    -99.0          Marketing & Sales            45.0   \n",
       "4                    496.0          Marketing & Sales            39.0   \n",
       "\n",
       "   Employees count MoM change Has the team size grown Est. Founding Date  \\\n",
       "0                         0.0                      No                NaN   \n",
       "1                         NaN                      No                NaN   \n",
       "2                         0.0                      No          12/1/2011   \n",
       "3                        10.0                      No          6/20/2009   \n",
       "4                         3.0                      No           4/1/2010   \n",
       "\n",
       "   Last Funding Amount  ... Entertainment  Healthcare  Energy  Search  \\\n",
       "0             450000.0  ...           NaN         NaN     NaN     NaN   \n",
       "1                  NaN  ...           0.0         0.0     0.0     0.0   \n",
       "2            2350000.0  ...           0.0         0.0     0.0     0.0   \n",
       "3           10250000.0  ...           0.0         0.0     0.0     0.0   \n",
       "4            5500000.0  ...           0.0         0.0     0.0     0.0   \n",
       "\n",
       "   Food & Beverages  Music Publishing  Gaming Email Career / Job Search  \n",
       "0               NaN    NaN        NaN     NaN   NaN                 NaN  \n",
       "1               0.0    0.0        0.0     0.0   0.0                 0.0  \n",
       "2               0.0    0.0        0.0     0.0   0.0                 0.0  \n",
       "3               0.0    0.0        0.0     0.0   0.0                 0.0  \n",
       "4               0.0    0.0        0.0     0.0   0.0                 0.0  \n",
       "\n",
       "[5 rows x 115 columns]"
      ]
     },
     "execution_count": 5,
     "metadata": {},
     "output_type": "execute_result"
    }
   ],
   "source": [
    "df.head()"
   ]
  },
  {
   "cell_type": "code",
   "execution_count": 6,
   "metadata": {},
   "outputs": [],
   "source": [
    "# We'll drop both the duplicated index column and the year of founding column, since it's already represented by the Est. founding date\n",
    "df.drop('Unnamed: 0', axis=1, inplace=True)\n",
    "df.drop('year of founding', axis=1, inplace=True)"
   ]
  },
  {
   "cell_type": "code",
   "execution_count": 7,
   "metadata": {},
   "outputs": [],
   "source": [
    "# Separate our X and Y\n",
    "X = df.drop('Dependent-Company Status', axis=1)\n",
    "y = df['Dependent-Company Status']"
   ]
  },
  {
   "cell_type": "code",
   "execution_count": 20,
   "metadata": {},
   "outputs": [],
   "source": [
    "# Split the data\n",
    "X_train_l, X_test, y_train_l, y_test = train_test_split(X, y, train_size=0.85)"
   ]
  },
  {
   "cell_type": "code",
   "execution_count": 9,
   "metadata": {},
   "outputs": [],
   "source": [
    "parameters = {'xgbclassifier__nthread':[4], #when use hyperthread, xgboost may become slower\n",
    "              'xgbclassifier__objective':['binary:logistic'],\n",
    "              'xgbclassifier__learning_rate': [0.05], #so called `eta` value\n",
    "              'xgbclassifier__max_depth': [6],\n",
    "              'xgbclassifier__min_child_weight': [11],\n",
    "              'xgbclassifier__silent': [1],\n",
    "              'xgbclassifier__subsample': [0.8],\n",
    "              'xgbclassifier__colsample_bytree': [0.7],\n",
    "              'xgbclassifier__n_estimators': [5], #number of trees, change it to 1000 for better results\n",
    "              'xgbclassifier__missing':[-999],\n",
    "              'xgbclassifier__seed': [1337]}"
   ]
  },
  {
   "cell_type": "code",
   "execution_count": 10,
   "metadata": {},
   "outputs": [],
   "source": [
    "# Make the pipeline\n",
    "pipeline = make_pipeline(\n",
    "    OrdinalEncoder(),\n",
    "    SimpleImputer(),\n",
    "    XGBClassifier()\n",
    ")"
   ]
  },
  {
   "cell_type": "code",
   "execution_count": 11,
   "metadata": {},
   "outputs": [],
   "source": [
    "grid = GridSearchCV(pipeline, parameters, cv=5, n_jobs=-1, scoring='roc_auc')"
   ]
  },
  {
   "cell_type": "code",
   "execution_count": 12,
   "metadata": {},
   "outputs": [
    {
     "data": {
      "text/plain": [
       "GridSearchCV(cv=5, error_score=nan,\n",
       "             estimator=Pipeline(memory=None,\n",
       "                                steps=[('ordinalencoder',\n",
       "                                        OrdinalEncoder(cols=None,\n",
       "                                                       drop_invariant=False,\n",
       "                                                       handle_missing='value',\n",
       "                                                       handle_unknown='value',\n",
       "                                                       mapping=None,\n",
       "                                                       return_df=True,\n",
       "                                                       verbose=0)),\n",
       "                                       ('simpleimputer',\n",
       "                                        SimpleImputer(add_indicator=False,\n",
       "                                                      copy=True,\n",
       "                                                      fill_value=None,\n",
       "                                                      missing_values=nan,\n",
       "                                                      strategy='mean',\n",
       "                                                      verbose=0)),\n",
       "                                       ('xg...\n",
       "                         'xgbclassifier__min_child_weight': [11],\n",
       "                         'xgbclassifier__missing': [-999],\n",
       "                         'xgbclassifier__n_estimators': [5],\n",
       "                         'xgbclassifier__nthread': [4],\n",
       "                         'xgbclassifier__objective': ['binary:logistic'],\n",
       "                         'xgbclassifier__seed': [1337],\n",
       "                         'xgbclassifier__silent': [1],\n",
       "                         'xgbclassifier__subsample': [0.8]},\n",
       "             pre_dispatch='2*n_jobs', refit=True, return_train_score=False,\n",
       "             scoring='roc_auc', verbose=0)"
      ]
     },
     "execution_count": 12,
     "metadata": {},
     "output_type": "execute_result"
    }
   ],
   "source": [
    "grid.fit(X_train_l, y_train_l)"
   ]
  },
  {
   "cell_type": "code",
   "execution_count": 13,
   "metadata": {},
   "outputs": [
    {
     "name": "stdout",
     "output_type": "stream",
     "text": [
      "Tuned Decision Tree Parameters: {'xgbclassifier__colsample_bytree': 0.7, 'xgbclassifier__learning_rate': 0.05, 'xgbclassifier__max_depth': 6, 'xgbclassifier__min_child_weight': 11, 'xgbclassifier__missing': -999, 'xgbclassifier__n_estimators': 5, 'xgbclassifier__nthread': 4, 'xgbclassifier__objective': 'binary:logistic', 'xgbclassifier__seed': 1337, 'xgbclassifier__silent': 1, 'xgbclassifier__subsample': 0.8}\n",
      "Best score is 0.9410295882278641\n"
     ]
    }
   ],
   "source": [
    "# Print the tuned parameters and score\n",
    "print(\"Tuned Decision Tree Parameters: {}\".format(grid.best_params_))\n",
    "print(\"Best score is {}\".format(grid.best_score_))"
   ]
  },
  {
   "cell_type": "code",
   "execution_count": 14,
   "metadata": {},
   "outputs": [],
   "source": [
    "# Make the pipeline\n",
    "pipeline_final = make_pipeline(\n",
    "    OrdinalEncoder(),\n",
    "    SimpleImputer(),\n",
    "    XGBClassifier(colsample_bytree = 0.7, learning_rate = 0.05, max_depth = 6, min_child_weight = 11, missing = -999, n_estimators=1000, nthread=4, seed=1337, silent=0, subsample=0.8)\n",
    ")"
   ]
  },
  {
   "cell_type": "code",
   "execution_count": 15,
   "metadata": {},
   "outputs": [
    {
     "data": {
      "text/plain": [
       "Pipeline(memory=None,\n",
       "         steps=[('ordinalencoder',\n",
       "                 OrdinalEncoder(cols=['Focus functions of company',\n",
       "                                      'Has the team size grown',\n",
       "                                      'Est. Founding Date',\n",
       "                                      'Country of company',\n",
       "                                      'Presence of a top angel or venture fund '\n",
       "                                      'in previous round of investment',\n",
       "                                      'Number of  Sales Support material',\n",
       "                                      'Worked in top companies',\n",
       "                                      'Average size of companies worked for in '\n",
       "                                      'the past',\n",
       "                                      'Have been part of startups in the past?'...\n",
       "                 XGBClassifier(base_score=0.5, booster='gbtree',\n",
       "                               colsample_bylevel=1, colsample_bynode=1,\n",
       "                               colsample_bytree=0.7, gamma=0,\n",
       "                               learning_rate=0.05, max_delta_step=0,\n",
       "                               max_depth=6, min_child_weight=11, missing=-999,\n",
       "                               n_estimators=1000, n_jobs=1, nthread=4,\n",
       "                               objective='binary:logistic', random_state=0,\n",
       "                               reg_alpha=0, reg_lambda=1, scale_pos_weight=1,\n",
       "                               seed=1337, silent=0, subsample=0.8,\n",
       "                               verbosity=1))],\n",
       "         verbose=False)"
      ]
     },
     "execution_count": 15,
     "metadata": {},
     "output_type": "execute_result"
    }
   ],
   "source": [
    "pipeline_final.fit(X_train_l, y_train_l)"
   ]
  },
  {
   "cell_type": "code",
   "execution_count": 21,
   "metadata": {},
   "outputs": [
    {
     "name": "stdout",
     "output_type": "stream",
     "text": [
      "Model's accuracy on training data:  0.942643391521197\n",
      "Model's accuracy on training data:  0.9577464788732394\n"
     ]
    }
   ],
   "source": [
    "# First we'll look at the training accuracy\n",
    "print(\"Model's accuracy on training data: \", pipeline_final.score(X_train_l, y_train_l))\n",
    "# Now, we'll see our valiation accuracy\n",
    "print(\"Model's accuracy on training data: \", pipeline_final.score(X_test, y_test))"
   ]
  },
  {
   "cell_type": "code",
   "execution_count": 22,
   "metadata": {},
   "outputs": [
    {
     "data": {
      "text/plain": [
       "<Figure size 576x576 with 0 Axes>"
      ]
     },
     "metadata": {},
     "output_type": "display_data"
    },
    {
     "data": {
      "image/png": "[encoded data removed]",
      "text/plain": [
       "<Figure size 432x288 with 2 Axes>"
      ]
     },
     "metadata": {
      "needs_background": "light"
     },
     "output_type": "display_data"
    }
   ],
   "source": [
    "# Plot a confusion matrix\n",
    "fig, ax = plt.subplots(1,1, figsize=(8,8))\n",
    "\n",
    "plot_confusion_matrix(pipeline_final, X_test, y_test,\n",
    "                      display_labels=['succeeded', 'Failed'],\n",
    "                      )\n",
    "\n",
    "fig.clf()"
   ]
  },
  {
   "cell_type": "code",
   "execution_count": 23,
   "metadata": {},
   "outputs": [
    {
     "name": "stdout",
     "output_type": "stream",
     "text": [
      "              precision    recall  f1-score   support\n",
      "\n",
      "      Failed       0.95      0.90      0.93        21\n",
      "     Success       0.96      0.98      0.97        50\n",
      "\n",
      "    accuracy                           0.96        71\n",
      "   macro avg       0.96      0.94      0.95        71\n",
      "weighted avg       0.96      0.96      0.96        71\n",
      "\n"
     ]
    }
   ],
   "source": [
    "# See our precision and recall\n",
    "y_pred = pipeline_final.predict(X_test)\n",
    "print (metrics.classification_report(y_test, y_pred))"
   ]
  },
  {
   "cell_type": "code",
   "execution_count": 25,
   "metadata": {},
   "outputs": [],
   "source": [
    "pipeline_final.fit(X, y)\n",
    "filename = 'new_pipeline.joblib'\n",
    "pickle.dump(pipeline_final, open(filename, 'wb'))"
   ]
  },
  {
   "cell_type": "code",
   "execution_count": null,
   "metadata": {},
   "outputs": [],
   "source": []
  }
 ],
 "metadata": {
  "kernelspec": {
   "display_name": "Python 3",
   "language": "python",
   "name": "python3"
  },
  "language_info": {
   "codemirror_mode": {
    "name": "ipython",
    "version": 3
   },
   "file_extension": ".py",
   "mimetype": "text/x-python",
   "name": "python",
   "nbconvert_exporter": "python",
   "pygments_lexer": "ipython3",
   "version": "3.7.3"
  }
 },
 "nbformat": 4,
 "nbformat_minor": 4
}
